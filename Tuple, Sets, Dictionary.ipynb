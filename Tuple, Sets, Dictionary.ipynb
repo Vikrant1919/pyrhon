{
 "cells": [
  {
   "cell_type": "markdown",
   "id": "29adc197",
   "metadata": {},
   "source": [
    "<h1><center>Tuple, Sets and Dictionary</center></h1>\n",
    "<h2><center>Tuple</center></h2>"
   ]
  },
  {
   "cell_type": "markdown",
   "id": "7dac340a",
   "metadata": {},
   "source": [
    "built-in functions for tuples in Python:\n",
    "\n",
    "len(tuple): Returns the number of elements in the tuple.\n",
    "\n",
    "tuple.count(value): Returns the number of occurrences of a value in the tuple.\n",
    "\n",
    "tuple.index(value): Returns the index of the first occurrence of a value in the tuple.\n",
    "\n",
    "tuple + tuple: Concatenates two tuples together, creating a new tuple.\n",
    "\n",
    "tuple * n: Repeats a tuple a specified number of times, creating a new tuple.\n",
    "\n",
    "max(tuple): Returns the maximum value in a numeric tuple.\n",
    "\n",
    "min(tuple): Returns the minimum value in a numeric tuple.\n",
    "\n",
    "sum(tuple): Returns the sum of all elements in a numeric tuple.\n",
    "\n",
    "sorted(tuple): Returns a new tuple with the elements sorted in ascending order.\n",
    "\n",
    "tuple[::-1]: Reverses the order of elements in the tuple.\n",
    "\n",
    "tuple.index(value, start, end): Returns the index of the first occurrence of a value within a specified range.\n",
    "\n",
    "tuple.count(value): Returns the number of occurrences of a value in the tuple."
   ]
  },
  {
   "cell_type": "markdown",
   "id": "b5f6992e",
   "metadata": {},
   "source": [
    "len(tuple): Returns the number of elements in the tuple."
   ]
  },
  {
   "cell_type": "code",
   "execution_count": 1,
   "id": "cb649bac",
   "metadata": {},
   "outputs": [
    {
     "name": "stdout",
     "output_type": "stream",
     "text": [
      "5\n"
     ]
    }
   ],
   "source": [
    "my_tuple = (1, 2, 3, 4, 5)\n",
    "length = len(my_tuple)\n",
    "print(length)  # Output: 5"
   ]
  },
  {
   "cell_type": "markdown",
   "id": "fcc2a7ac",
   "metadata": {},
   "source": [
    "tuple.count(value): Returns the number of occurrences of a value in the tuple."
   ]
  },
  {
   "cell_type": "code",
   "execution_count": 2,
   "id": "2122c188",
   "metadata": {},
   "outputs": [
    {
     "name": "stdout",
     "output_type": "stream",
     "text": [
      "3\n"
     ]
    }
   ],
   "source": [
    "my_tuple = (1, 2, 2, 3, 4, 4, 4, 5)\n",
    "count = my_tuple.count(4)\n",
    "print(count)  # Output: 3"
   ]
  },
  {
   "cell_type": "markdown",
   "id": "006b40d8",
   "metadata": {},
   "source": [
    "tuple.index(value): Returns the index of the first occurrence of a value in the tuple."
   ]
  },
  {
   "cell_type": "code",
   "execution_count": 3,
   "id": "70ad1029",
   "metadata": {},
   "outputs": [
    {
     "name": "stdout",
     "output_type": "stream",
     "text": [
      "2\n"
     ]
    }
   ],
   "source": [
    "my_tuple = (1, 2, 3, 4, 5)\n",
    "index = my_tuple.index(3)\n",
    "print(index)  # Output: 2"
   ]
  },
  {
   "cell_type": "markdown",
   "id": "640b62ca",
   "metadata": {},
   "source": [
    "tuple + tuple: Concatenates two tuples together, creating a new tuple."
   ]
  },
  {
   "cell_type": "code",
   "execution_count": 4,
   "id": "d704d6d7",
   "metadata": {},
   "outputs": [
    {
     "name": "stdout",
     "output_type": "stream",
     "text": [
      "(1, 2, 3, 4, 5, 6)\n"
     ]
    }
   ],
   "source": [
    "tuple1 = (1, 2, 3)\n",
    "tuple2 = (4, 5, 6)\n",
    "concatenated = tuple1 + tuple2\n",
    "print(concatenated)  # Output: (1, 2, 3, 4, 5, 6)"
   ]
  },
  {
   "cell_type": "markdown",
   "id": "e63b3a62",
   "metadata": {},
   "source": [
    "tuple * n: Repeats a tuple a specified number of times, creating a new tuple."
   ]
  },
  {
   "cell_type": "code",
   "execution_count": 5,
   "id": "7fa0acae",
   "metadata": {},
   "outputs": [
    {
     "name": "stdout",
     "output_type": "stream",
     "text": [
      "(1, 2, 3, 1, 2, 3, 1, 2, 3)\n"
     ]
    }
   ],
   "source": [
    "my_tuple = (1, 2, 3)\n",
    "repeated = my_tuple * 3\n",
    "print(repeated)  # Output: (1, 2, 3, 1, 2, 3, 1, 2, 3)"
   ]
  },
  {
   "cell_type": "markdown",
   "id": "65e2a6d6",
   "metadata": {},
   "source": [
    "max(tuple): Returns the maximum value in a numeric tuple."
   ]
  },
  {
   "cell_type": "code",
   "execution_count": 6,
   "id": "43c9b80f",
   "metadata": {},
   "outputs": [
    {
     "name": "stdout",
     "output_type": "stream",
     "text": [
      "5\n"
     ]
    }
   ],
   "source": [
    "my_tuple = (5, 3, 1, 4, 2)\n",
    "maximum = max(my_tuple)\n",
    "print(maximum)  # Output: 5"
   ]
  },
  {
   "cell_type": "markdown",
   "id": "1034d03a",
   "metadata": {},
   "source": [
    "min(tuple): Returns the minimum value in a numeric tuple."
   ]
  },
  {
   "cell_type": "code",
   "execution_count": 7,
   "id": "084792f0",
   "metadata": {},
   "outputs": [
    {
     "name": "stdout",
     "output_type": "stream",
     "text": [
      "1\n"
     ]
    }
   ],
   "source": [
    "my_tuple = (5, 3, 1, 4, 2)\n",
    "minimum = min(my_tuple)\n",
    "print(minimum)  # Output: 1"
   ]
  },
  {
   "cell_type": "markdown",
   "id": "6247e840",
   "metadata": {},
   "source": [
    "sum(tuple): Returns the sum of all elements in a numeric tuple."
   ]
  },
  {
   "cell_type": "code",
   "execution_count": 8,
   "id": "9df94780",
   "metadata": {},
   "outputs": [
    {
     "name": "stdout",
     "output_type": "stream",
     "text": [
      "15\n"
     ]
    }
   ],
   "source": [
    "my_tuple = (1, 2, 3, 4, 5)\n",
    "total = sum(my_tuple)\n",
    "print(total)  # Output: 15"
   ]
  },
  {
   "cell_type": "markdown",
   "id": "fd0308b5",
   "metadata": {},
   "source": [
    "sorted(tuple): Returns a new tuple with the elements sorted in ascending order."
   ]
  },
  {
   "cell_type": "code",
   "execution_count": 9,
   "id": "ceaf480c",
   "metadata": {},
   "outputs": [
    {
     "name": "stdout",
     "output_type": "stream",
     "text": [
      "[1, 2, 3, 4, 5]\n"
     ]
    }
   ],
   "source": [
    "my_tuple = (5, 3, 1, 4, 2)\n",
    "sorted_tuple = sorted(my_tuple)\n",
    "print(sorted_tuple)  # Output: (1, 2, 3, 4, 5)"
   ]
  },
  {
   "cell_type": "markdown",
   "id": "c213ab20",
   "metadata": {},
   "source": [
    "tuple[::-1]: Reverses the order of elements in the tuple."
   ]
  },
  {
   "cell_type": "code",
   "execution_count": 10,
   "id": "8f49ecdd",
   "metadata": {},
   "outputs": [
    {
     "name": "stdout",
     "output_type": "stream",
     "text": [
      "(5, 4, 3, 2, 1)\n"
     ]
    }
   ],
   "source": [
    "my_tuple = (1, 2, 3, 4, 5)\n",
    "reversed_tuple = my_tuple[::-1]\n",
    "print(reversed_tuple)  # Output: (5, 4, 3, 2, 1)"
   ]
  },
  {
   "cell_type": "markdown",
   "id": "677bada0",
   "metadata": {},
   "source": [
    "tuple.index(value, start, end): Returns the index of the first occurrence of a value within a specified range."
   ]
  },
  {
   "cell_type": "code",
   "execution_count": 11,
   "id": "8696b7f1",
   "metadata": {},
   "outputs": [
    {
     "name": "stdout",
     "output_type": "stream",
     "text": [
      "3\n"
     ]
    }
   ],
   "source": [
    "my_tuple = (1, 2, 3, 2, 4, 2, 5)\n",
    "index = my_tuple.index(2, 2, 6)\n",
    "print(index)  # Output: 3"
   ]
  },
  {
   "cell_type": "markdown",
   "id": "40fe956b",
   "metadata": {},
   "source": [
    "tuple.count(value): Returns the number of occurrences of a value in the tuple."
   ]
  },
  {
   "cell_type": "code",
   "execution_count": 12,
   "id": "59d78674",
   "metadata": {},
   "outputs": [
    {
     "name": "stdout",
     "output_type": "stream",
     "text": [
      "3\n"
     ]
    }
   ],
   "source": [
    "my_tuple = (1, 2, 2, 3, 4, 4, 4, 5)\n",
    "count = my_tuple.count(4)\n",
    "print(count)  # Output: 3"
   ]
  },
  {
   "cell_type": "markdown",
   "id": "97026ae0",
   "metadata": {},
   "source": [
    "<h2><center>Tuple Operations</center></h2>"
   ]
  },
  {
   "cell_type": "markdown",
   "id": "825346a4",
   "metadata": {},
   "source": [
    "Accessing Elements:\n",
    "\n",
    "Indexing (tuple[index]): Accesses an element at a specific index in the tuple."
   ]
  },
  {
   "cell_type": "code",
   "execution_count": 13,
   "id": "debd019a",
   "metadata": {},
   "outputs": [
    {
     "name": "stdout",
     "output_type": "stream",
     "text": [
      "1\n"
     ]
    }
   ],
   "source": [
    "my_tuple = (1, 2, 3, 4, 5)\n",
    "print(my_tuple[0])  # Output: 1"
   ]
  },
  {
   "cell_type": "markdown",
   "id": "0c0130c5",
   "metadata": {},
   "source": [
    "Negative Indexing (tuple[-index]): Accesses an element at a specific index from the end of the tuple."
   ]
  },
  {
   "cell_type": "code",
   "execution_count": 14,
   "id": "5467bbcb",
   "metadata": {},
   "outputs": [
    {
     "name": "stdout",
     "output_type": "stream",
     "text": [
      "5\n"
     ]
    }
   ],
   "source": [
    "my_tuple = (1, 2, 3, 4, 5)\n",
    "print(my_tuple[-1])  # Output: 5"
   ]
  },
  {
   "cell_type": "markdown",
   "id": "f65f5d0b",
   "metadata": {},
   "source": [
    "Slicing (tuple[start:end]): Extracts a sublist from the tuple based on a specified range of indices."
   ]
  },
  {
   "cell_type": "code",
   "execution_count": 15,
   "id": "d71a51db",
   "metadata": {},
   "outputs": [
    {
     "name": "stdout",
     "output_type": "stream",
     "text": [
      "(2, 3, 4)\n"
     ]
    }
   ],
   "source": [
    "my_tuple = (1, 2, 3, 4, 5)\n",
    "print(my_tuple[1:4])  # Output: (2, 3, 4)"
   ]
  },
  {
   "cell_type": "markdown",
   "id": "2a43d3b5",
   "metadata": {},
   "source": [
    "Concatenation:\n",
    "\n",
    "Concatenating tuples (tuple1 + tuple2): Concatenates two tuples together, creating a new tuple."
   ]
  },
  {
   "cell_type": "code",
   "execution_count": 16,
   "id": "68a7f76f",
   "metadata": {},
   "outputs": [
    {
     "name": "stdout",
     "output_type": "stream",
     "text": [
      "(1, 2, 3, 4, 5, 6)\n"
     ]
    }
   ],
   "source": [
    "tuple1 = (1, 2, 3)\n",
    "tuple2 = (4, 5, 6)\n",
    "concatenated_tuple = tuple1 + tuple2\n",
    "print(concatenated_tuple)  # Output: (1, 2, 3, 4, 5, 6)"
   ]
  },
  {
   "cell_type": "markdown",
   "id": "8832673f",
   "metadata": {},
   "source": [
    "Repetition:\n",
    "\n",
    "Repeating a tuple (tuple * n): Repeats a tuple a specified number of times, creating a new tuple."
   ]
  },
  {
   "cell_type": "code",
   "execution_count": 17,
   "id": "cdd127b7",
   "metadata": {},
   "outputs": [
    {
     "name": "stdout",
     "output_type": "stream",
     "text": [
      "(1, 2, 3, 1, 2, 3, 1, 2, 3)\n"
     ]
    }
   ],
   "source": [
    "my_tuple = (1, 2, 3)\n",
    "repeated_tuple = my_tuple * 3\n",
    "print(repeated_tuple)  # Output: (1, 2, 3, 1, 2, 3, 1, 2, 3)"
   ]
  },
  {
   "cell_type": "markdown",
   "id": "24bab19b",
   "metadata": {},
   "source": [
    "Length:\n",
    "\n",
    "Getting the length of a tuple (len(tuple)): Returns the number of elements in the tuple."
   ]
  },
  {
   "cell_type": "code",
   "execution_count": 18,
   "id": "af041655",
   "metadata": {},
   "outputs": [
    {
     "name": "stdout",
     "output_type": "stream",
     "text": [
      "5\n"
     ]
    }
   ],
   "source": [
    "my_tuple = (1, 2, 3, 4, 5)\n",
    "length = len(my_tuple)\n",
    "print(length)  # Output: 5"
   ]
  },
  {
   "cell_type": "markdown",
   "id": "c7f1a34a",
   "metadata": {},
   "source": [
    "Membership:\n",
    "\n",
    "Checking if a value is present in the tuple (value in tuple): Returns True if the value is found, False otherwise."
   ]
  },
  {
   "cell_type": "code",
   "execution_count": 19,
   "id": "77f67c5c",
   "metadata": {},
   "outputs": [
    {
     "name": "stdout",
     "output_type": "stream",
     "text": [
      "True\n",
      "False\n"
     ]
    }
   ],
   "source": [
    "my_tuple = (1, 2, 3, 4, 5)\n",
    "print(3 in my_tuple)  # Output: True\n",
    "print(6 in my_tuple)  # Output: False"
   ]
  },
  {
   "cell_type": "markdown",
   "id": "a62bf65b",
   "metadata": {},
   "source": [
    "Sorting:\n",
    "\n",
    "Sorting the elements of a tuple (sorted(tuple)): Returns a new tuple with the elements sorted in ascending order.\n"
   ]
  },
  {
   "cell_type": "code",
   "execution_count": 20,
   "id": "405b5e6a",
   "metadata": {},
   "outputs": [
    {
     "name": "stdout",
     "output_type": "stream",
     "text": [
      "[1, 2, 3, 4, 5]\n"
     ]
    }
   ],
   "source": [
    "my_tuple = (5, 3, 1, 4, 2)\n",
    "sorted_tuple = sorted(my_tuple)\n",
    "print(sorted_tuple)  # Output: (1, 2, 3, 4, 5)"
   ]
  },
  {
   "cell_type": "markdown",
   "id": "47ddeb7e",
   "metadata": {},
   "source": [
    "Finding Maximum and Minimum:\n",
    "\n",
    "Finding the maximum value in a numeric tuple (max(tuple)): Returns the maximum value."
   ]
  },
  {
   "cell_type": "code",
   "execution_count": 21,
   "id": "4d9b095e",
   "metadata": {},
   "outputs": [
    {
     "name": "stdout",
     "output_type": "stream",
     "text": [
      "5\n"
     ]
    }
   ],
   "source": [
    "my_tuple = (5, 3, 1, 4, 2)\n",
    "maximum = max(my_tuple)\n",
    "print(maximum)  # Output: 5"
   ]
  },
  {
   "cell_type": "markdown",
   "id": "b2a8c57a",
   "metadata": {},
   "source": [
    "Finding the minimum value in a numeric tuple (min(tuple)): Returns the minimum value."
   ]
  },
  {
   "cell_type": "code",
   "execution_count": 22,
   "id": "15da3793",
   "metadata": {},
   "outputs": [
    {
     "name": "stdout",
     "output_type": "stream",
     "text": [
      "1\n"
     ]
    }
   ],
   "source": [
    "my_tuple = (5, 3, 1, 4, 2)\n",
    "minimum = min(my_tuple)\n",
    "print(minimum)  # Output: 1"
   ]
  },
  {
   "cell_type": "markdown",
   "id": "e6aff55d",
   "metadata": {},
   "source": [
    "Counting:\n",
    "\n",
    "Counting the occurrences of a value in the tuple (tuple.count(value)): Returns the number of occurrences."
   ]
  },
  {
   "cell_type": "code",
   "execution_count": 23,
   "id": "62cdabfc",
   "metadata": {},
   "outputs": [
    {
     "name": "stdout",
     "output_type": "stream",
     "text": [
      "3\n"
     ]
    }
   ],
   "source": [
    "my_tuple = (1, 2, 2, 3, 4, 4, 4, 5)\n",
    "count = my_tuple.count(4)\n",
    "print(count)  # Output: 3"
   ]
  },
  {
   "cell_type": "markdown",
   "id": "c134f56a",
   "metadata": {},
   "source": [
    "Copying:\n",
    "\n",
    "Creating a copy of a tuple (new_tuple = tuple[:]): Creates a shallow copy of the tuple.\n"
   ]
  },
  {
   "cell_type": "code",
   "execution_count": 24,
   "id": "b75aad7b",
   "metadata": {},
   "outputs": [
    {
     "name": "stdout",
     "output_type": "stream",
     "text": [
      "(1, 2, 3)\n"
     ]
    }
   ],
   "source": [
    "my_tuple = (1, 2, 3)\n",
    "new_tuple = my_tuple[:]\n",
    "print(new_tuple)  # Output: (1, 2, 3)"
   ]
  },
  {
   "cell_type": "markdown",
   "id": "8dca98bf",
   "metadata": {},
   "source": [
    "<h2><center>Tuple slicing</center></h2>"
   ]
  },
  {
   "cell_type": "markdown",
   "id": "59ad8f66",
   "metadata": {},
   "source": [
    "Basic Slicing: Extracting a subtuple from a tuple based on a specified range of indices."
   ]
  },
  {
   "cell_type": "code",
   "execution_count": 26,
   "id": "bbff4d27",
   "metadata": {},
   "outputs": [
    {
     "name": "stdout",
     "output_type": "stream",
     "text": [
      "(3, 4, 5, 6, 7)\n"
     ]
    }
   ],
   "source": [
    "my_tuple = (1, 2, 3, 4, 5, 6, 7, 8, 9, 10)\n",
    "sliced_tuple = my_tuple[2:7]\n",
    "print(sliced_tuple)  # Output: (3, 4, 5, 6, 7)"
   ]
  },
  {
   "cell_type": "markdown",
   "id": "b3dc4482",
   "metadata": {},
   "source": [
    "Slicing with a Step Value: Extracting a subtuple with a specified step value, allowing you to skip elements."
   ]
  },
  {
   "cell_type": "code",
   "execution_count": 27,
   "id": "805ea8e7",
   "metadata": {},
   "outputs": [
    {
     "name": "stdout",
     "output_type": "stream",
     "text": [
      "(2, 4, 6, 8)\n"
     ]
    }
   ],
   "source": [
    "my_tuple = (1, 2, 3, 4, 5, 6, 7, 8, 9, 10)\n",
    "sliced_tuple = my_tuple[1:9:2]\n",
    "print(sliced_tuple)  # Output: (2, 4, 6, 8)"
   ]
  },
  {
   "cell_type": "markdown",
   "id": "dfe2d187",
   "metadata": {},
   "source": [
    "Reverse Slicing: Reversing the order of elements in a tuple using slicing."
   ]
  },
  {
   "cell_type": "code",
   "execution_count": 28,
   "id": "a6792d78",
   "metadata": {},
   "outputs": [
    {
     "name": "stdout",
     "output_type": "stream",
     "text": [
      "(5, 4, 3, 2, 1)\n"
     ]
    }
   ],
   "source": [
    "my_tuple = (1, 2, 3, 4, 5)\n",
    "reversed_tuple = my_tuple[::-1]\n",
    "print(reversed_tuple)  # Output: (5, 4, 3, 2, 1)"
   ]
  },
  {
   "cell_type": "markdown",
   "id": "650cf749",
   "metadata": {},
   "source": [
    "Skipping Last N Elements: Skipping the last N elements of a tuple using negative indices."
   ]
  },
  {
   "cell_type": "code",
   "execution_count": 29,
   "id": "0a49e83b",
   "metadata": {},
   "outputs": [
    {
     "name": "stdout",
     "output_type": "stream",
     "text": [
      "(1, 2)\n"
     ]
    }
   ],
   "source": [
    "my_tuple = (1, 2, 3, 4, 5)\n",
    "sliced_tuple = my_tuple[:-3]\n",
    "print(sliced_tuple)  # Output: (1, 2, 3)"
   ]
  },
  {
   "cell_type": "markdown",
   "id": "82ac5cf9",
   "metadata": {},
   "source": [
    "Skipping First N Elements: Skipping the first N elements of a tuple using positive indices."
   ]
  },
  {
   "cell_type": "code",
   "execution_count": 30,
   "id": "e1b0e6d5",
   "metadata": {},
   "outputs": [
    {
     "name": "stdout",
     "output_type": "stream",
     "text": [
      "(4, 5)\n"
     ]
    }
   ],
   "source": [
    "my_tuple = (1, 2, 3, 4, 5)\n",
    "sliced_tuple = my_tuple[3:]\n",
    "print(sliced_tuple)  # Output: (4, 5)"
   ]
  },
  {
   "cell_type": "markdown",
   "id": "41eea372",
   "metadata": {},
   "source": [
    "Slicing with a Step Value Greater than 1: Extracting a subtuple by skipping elements using a step value greater than 1."
   ]
  },
  {
   "cell_type": "code",
   "execution_count": 31,
   "id": "9ea770e8",
   "metadata": {},
   "outputs": [
    {
     "name": "stdout",
     "output_type": "stream",
     "text": [
      "(2, 5, 8)\n"
     ]
    }
   ],
   "source": [
    "my_tuple = (1, 2, 3, 4, 5, 6, 7, 8, 9, 10)\n",
    "sliced_tuple = my_tuple[1:9:3]\n",
    "print(sliced_tuple)  # Output: (2, 5, 8)"
   ]
  },
  {
   "cell_type": "markdown",
   "id": "f0addc01",
   "metadata": {},
   "source": [
    "Multi-dimensional Tuple Slicing: Slicing multi-dimensional tuples."
   ]
  },
  {
   "cell_type": "code",
   "execution_count": 32,
   "id": "f0ef78fd",
   "metadata": {},
   "outputs": [
    {
     "name": "stdout",
     "output_type": "stream",
     "text": [
      "(5, 6)\n"
     ]
    }
   ],
   "source": [
    "my_tuple = ((1, 2, 3), (4, 5, 6), (7, 8, 9))\n",
    "sliced_tuple = my_tuple[1][1:3]\n",
    "print(sliced_tuple)  # Output: (5, 6)"
   ]
  },
  {
   "cell_type": "markdown",
   "id": "5f9aa167",
   "metadata": {},
   "source": [
    "<h2><center>Sets</center></h2>"
   ]
  },
  {
   "cell_type": "markdown",
   "id": "3c5615ad",
   "metadata": {},
   "source": [
    ":\n",
    "\n",
    "len(set): Returns the number of elements in the set.\n",
    "\n",
    "set.add(element): Adds an element to the set.\n",
    "\n",
    "set.remove(element): Removes an element from the set. Raises an error if the element is not found.\n",
    "\n",
    "set.discard(element): Removes an element from the set if it exists, without raising an error.\n",
    "\n",
    "set.pop(): Removes and returns an arbitrary element from the set.\n",
    "\n",
    "set.clear(): Removes all elements from the set.\n",
    "\n",
    "set.copy(): Creates a shallow copy of the set.\n",
    "\n",
    "element in set: Checks if an element is present in the set.\n",
    "\n",
    "set.union(other_set): Returns a new set that is the union of two sets.\n",
    "\n",
    "set.intersection(other_set): Returns a new set that is the intersection of two sets.\n",
    "\n",
    "set.difference(other_set): Returns a new set that contains elements present in the set but not in the other set.\n",
    "\n",
    "set.symmetric_difference(other_set): Returns a new set that contains elements present in either set but not in both.\n",
    "\n",
    "set.issubset(other_set): Checks if the set is a subset of another set.\n",
    "\n",
    "set.issuperset(other_set): Checks if the set is a superset of another set.\n",
    "\n",
    "set.update(other_set): Updates the set by adding elements from another set.\n",
    "\n",
    "set.intersection_update(other_set): Updates the set by keeping only the elements present in both sets.\n",
    "\n",
    "set.difference_update(other_set): Updates the set by removing elements that are also present in the other set.\n",
    "\n",
    "set.symmetric_difference_update(other_set): Updates the set by keeping only the elements that are present in either set but not in both.\n",
    "\n",
    "set.copy(): Creates a shallow copy of the set."
   ]
  },
  {
   "cell_type": "markdown",
   "id": "867a29f3",
   "metadata": {},
   "source": [
    "<h2><center>Sets Operations</center></h2>"
   ]
  },
  {
   "cell_type": "markdown",
   "id": "7d530a5b",
   "metadata": {},
   "source": [
    "len(set): Returns the number of elements in the set.\n"
   ]
  },
  {
   "cell_type": "code",
   "execution_count": 78,
   "id": "f82a5fb3",
   "metadata": {},
   "outputs": [
    {
     "name": "stdout",
     "output_type": "stream",
     "text": [
      "5\n"
     ]
    }
   ],
   "source": [
    "my_set = {1, 2, 3, 4, 5}\n",
    "length = len(my_set)\n",
    "print(length)  # Output: 5"
   ]
  },
  {
   "cell_type": "markdown",
   "id": "ab9e5a1d",
   "metadata": {},
   "source": [
    "set.add(element): Adds an element to the set.\n"
   ]
  },
  {
   "cell_type": "code",
   "execution_count": 77,
   "id": "0a7edc16",
   "metadata": {},
   "outputs": [
    {
     "name": "stdout",
     "output_type": "stream",
     "text": [
      "{1, 2, 3, 4}\n"
     ]
    }
   ],
   "source": [
    "my_set = {1, 2, 3}\n",
    "my_set.add(4)\n",
    "print(my_set)  # Output: {1, 2, 3, 4}"
   ]
  },
  {
   "cell_type": "markdown",
   "id": "90975737",
   "metadata": {},
   "source": [
    "set.remove(element): Removes an element from the set. Raises an error if the element is not found.\n"
   ]
  },
  {
   "cell_type": "code",
   "execution_count": 76,
   "id": "8b6680ea",
   "metadata": {},
   "outputs": [
    {
     "name": "stdout",
     "output_type": "stream",
     "text": [
      "{1, 2, 4}\n"
     ]
    }
   ],
   "source": [
    "my_set = {1, 2, 3, 4}\n",
    "my_set.remove(3)\n",
    "print(my_set)  # Output: {1, 2, 4}"
   ]
  },
  {
   "cell_type": "markdown",
   "id": "cd59ebe5",
   "metadata": {},
   "source": [
    "set.discard(element): Removes an element from the set if it exists, without raising an error."
   ]
  },
  {
   "cell_type": "code",
   "execution_count": 75,
   "id": "c7d50a7c",
   "metadata": {},
   "outputs": [
    {
     "name": "stdout",
     "output_type": "stream",
     "text": [
      "{1, 2, 4}\n"
     ]
    }
   ],
   "source": [
    "my_set = {1, 2, 3, 4}\n",
    "my_set.discard(3)\n",
    "print(my_set)  # Output: {1, 2, 4}"
   ]
  },
  {
   "cell_type": "markdown",
   "id": "86120da0",
   "metadata": {},
   "source": [
    "set.pop(): Removes and returns an arbitrary element from the set.\n"
   ]
  },
  {
   "cell_type": "code",
   "execution_count": 74,
   "id": "a6788afd",
   "metadata": {},
   "outputs": [
    {
     "name": "stdout",
     "output_type": "stream",
     "text": [
      "1\n",
      "{2, 3, 4}\n"
     ]
    }
   ],
   "source": [
    "my_set = {1, 2, 3, 4}\n",
    "popped_element = my_set.pop()\n",
    "print(popped_element)  # Output: 1\n",
    "print(my_set)         # Output: {2, 3, 4}"
   ]
  },
  {
   "cell_type": "markdown",
   "id": "9cb6f60b",
   "metadata": {},
   "source": [
    "set.clear(): Removes all elements from the set.\n"
   ]
  },
  {
   "cell_type": "code",
   "execution_count": 73,
   "id": "894f9601",
   "metadata": {},
   "outputs": [
    {
     "name": "stdout",
     "output_type": "stream",
     "text": [
      "set()\n"
     ]
    }
   ],
   "source": [
    "my_set = {1, 2, 3, 4}\n",
    "my_set.clear()\n",
    "print(my_set)  # Output: set()"
   ]
  },
  {
   "cell_type": "markdown",
   "id": "9601055f",
   "metadata": {},
   "source": [
    "set.copy(): Creates a shallow copy of the set."
   ]
  },
  {
   "cell_type": "code",
   "execution_count": 72,
   "id": "98cd093b",
   "metadata": {},
   "outputs": [
    {
     "name": "stdout",
     "output_type": "stream",
     "text": [
      "{1, 2, 3}\n"
     ]
    }
   ],
   "source": [
    "my_set = {1, 2, 3}\n",
    "new_set = my_set.copy()\n",
    "print(new_set)  # Output: {1, 2, 3}"
   ]
  },
  {
   "cell_type": "markdown",
   "id": "b30b4cfd",
   "metadata": {},
   "source": [
    "element in set: Checks if an element is present in the set.\n"
   ]
  },
  {
   "cell_type": "code",
   "execution_count": 71,
   "id": "242664ec",
   "metadata": {},
   "outputs": [
    {
     "name": "stdout",
     "output_type": "stream",
     "text": [
      "True\n",
      "False\n"
     ]
    }
   ],
   "source": [
    "my_set = {1, 2, 3, 4, 5}\n",
    "print(3 in my_set)  # Output: True\n",
    "print(6 in my_set)  # Output: False"
   ]
  },
  {
   "cell_type": "markdown",
   "id": "d58bce61",
   "metadata": {},
   "source": [
    "set.union(other_set): Returns a new set that is the union of two sets.\n"
   ]
  },
  {
   "cell_type": "code",
   "execution_count": 70,
   "id": "a8d8f88d",
   "metadata": {},
   "outputs": [
    {
     "name": "stdout",
     "output_type": "stream",
     "text": [
      "{1, 2, 3, 4, 5}\n"
     ]
    }
   ],
   "source": [
    "set1 = {1, 2, 3}\n",
    "set2 = {3, 4, 5}\n",
    "union_set = set1.union(set2)\n",
    "print(union_set)  # Output: {1, 2, 3, 4, 5}"
   ]
  },
  {
   "cell_type": "markdown",
   "id": "a7e0be51",
   "metadata": {},
   "source": [
    "set.intersection(other_set): Returns a new set that is the intersection of two sets.\n"
   ]
  },
  {
   "cell_type": "code",
   "execution_count": 69,
   "id": "fe9f37c7",
   "metadata": {},
   "outputs": [
    {
     "name": "stdout",
     "output_type": "stream",
     "text": [
      "{3}\n"
     ]
    }
   ],
   "source": [
    "set1 = {1, 2, 3}\n",
    "set2 = {3, 4, 5}\n",
    "intersection_set = set1.intersection(set2)\n",
    "print(intersection_set)  # Output: {3}"
   ]
  },
  {
   "cell_type": "markdown",
   "id": "83fac6f3",
   "metadata": {},
   "source": [
    "set.difference(other_set): Returns a new set that contains elements present in the set but not in the other set.\n"
   ]
  },
  {
   "cell_type": "code",
   "execution_count": 68,
   "id": "6dda72e9",
   "metadata": {},
   "outputs": [
    {
     "name": "stdout",
     "output_type": "stream",
     "text": [
      "{1, 2}\n"
     ]
    }
   ],
   "source": [
    "set1 = {1, 2, 3}\n",
    "set2 = {3, 4, 5}\n",
    "difference_set = set1.difference(set2)\n",
    "print(difference_set)  # Output: {1, 2}"
   ]
  },
  {
   "cell_type": "markdown",
   "id": "f7af6338",
   "metadata": {},
   "source": [
    "set.symmetric_difference(other_set): Returns a new set that contains elements present in either set but not in both.\n"
   ]
  },
  {
   "cell_type": "code",
   "execution_count": 67,
   "id": "a75fb724",
   "metadata": {},
   "outputs": [
    {
     "name": "stdout",
     "output_type": "stream",
     "text": [
      "{1, 2, 4, 5}\n"
     ]
    }
   ],
   "source": [
    "set1 = {1, 2, 3}\n",
    "set2 = {3, 4, 5}\n",
    "sym_diff_set = set1.symmetric_difference(set2)\n",
    "print(sym_diff_set)  # Output: {1, 2, 4, 5}"
   ]
  },
  {
   "cell_type": "markdown",
   "id": "59ca0f99",
   "metadata": {},
   "source": [
    "set.issubset(other_set): Checks if the set is a subset of another set.\n"
   ]
  },
  {
   "cell_type": "code",
   "execution_count": 66,
   "id": "b0b086f1",
   "metadata": {},
   "outputs": [
    {
     "name": "stdout",
     "output_type": "stream",
     "text": [
      "True\n"
     ]
    }
   ],
   "source": [
    "set1 = {1, 2}\n",
    "set2 = {1, 2, 3, 4}\n",
    "print(set1.issubset(set2))  # Output: True"
   ]
  },
  {
   "cell_type": "markdown",
   "id": "2d7e617f",
   "metadata": {},
   "source": [
    "set.issuperset(other_set): Checks if the set is a superset of another set.\n"
   ]
  },
  {
   "cell_type": "code",
   "execution_count": 65,
   "id": "f581a5d6",
   "metadata": {},
   "outputs": [
    {
     "name": "stdout",
     "output_type": "stream",
     "text": [
      "True\n"
     ]
    }
   ],
   "source": [
    "set1 = {1, 2, 3, 4}\n",
    "set2 = {1, 2}\n",
    "print(set1.issuperset(set2))  # Output: True"
   ]
  },
  {
   "cell_type": "markdown",
   "id": "35a289a1",
   "metadata": {},
   "source": [
    "set.update(other_set): Updates the set by adding elements from another set.\n"
   ]
  },
  {
   "cell_type": "code",
   "execution_count": 64,
   "id": "bd5bf0ce",
   "metadata": {},
   "outputs": [
    {
     "name": "stdout",
     "output_type": "stream",
     "text": [
      "{1, 2, 3, 4, 5}\n"
     ]
    }
   ],
   "source": [
    "set1 = {1, 2, 3}\n",
    "set2 = {3, 4, 5}\n",
    "set1.update(set2)\n",
    "print(set1)  # Output: {1, 2, 3, 4, 5}"
   ]
  },
  {
   "cell_type": "markdown",
   "id": "907173b3",
   "metadata": {},
   "source": [
    "set.intersection_update(other_set): Updates the set by keeping only the elements present in both sets.\n"
   ]
  },
  {
   "cell_type": "code",
   "execution_count": 63,
   "id": "52928505",
   "metadata": {},
   "outputs": [
    {
     "name": "stdout",
     "output_type": "stream",
     "text": [
      "{3}\n"
     ]
    }
   ],
   "source": [
    "set1 = {1, 2, 3}\n",
    "set2 = {3, 4, 5}\n",
    "set1.intersection_update(set2)\n",
    "print(set1)  # Output: {3}"
   ]
  },
  {
   "cell_type": "markdown",
   "id": "b4e68f83",
   "metadata": {},
   "source": [
    "set.difference_update(other_set): Updates the set by removing elements that are also present in the other set.\n"
   ]
  },
  {
   "cell_type": "code",
   "execution_count": 62,
   "id": "c9050dec",
   "metadata": {},
   "outputs": [
    {
     "name": "stdout",
     "output_type": "stream",
     "text": [
      "{1, 2}\n"
     ]
    }
   ],
   "source": [
    "set1 = {1, 2, 3}\n",
    "set2 = {3, 4, 5}\n",
    "set1.difference_update(set2)\n",
    "print(set1)  # Output: {1, 2}"
   ]
  },
  {
   "cell_type": "markdown",
   "id": "0179e075",
   "metadata": {},
   "source": [
    "set.symmetric_difference_update(other_set): Updates the set by keeping only the elements that are present in either set but not in both."
   ]
  },
  {
   "cell_type": "code",
   "execution_count": 61,
   "id": "85fbaa0c",
   "metadata": {},
   "outputs": [
    {
     "name": "stdout",
     "output_type": "stream",
     "text": [
      "{1, 2, 4, 5}\n"
     ]
    }
   ],
   "source": [
    "set1 = {1, 2, 3}\n",
    "set2 = {3, 4, 5}\n",
    "set1.symmetric_difference_update(set2)\n",
    "print(set1)  # Output: {1, 2, 4, 5}"
   ]
  },
  {
   "cell_type": "markdown",
   "id": "0399859d",
   "metadata": {},
   "source": [
    "Creating an empty set:"
   ]
  },
  {
   "cell_type": "code",
   "execution_count": 60,
   "id": "2e5896c8",
   "metadata": {},
   "outputs": [
    {
     "data": {
      "text/plain": [
       "set()"
      ]
     },
     "execution_count": 60,
     "metadata": {},
     "output_type": "execute_result"
    }
   ],
   "source": [
    "empty_set = set()\n",
    "empty_set"
   ]
  },
  {
   "cell_type": "markdown",
   "id": "0537a851",
   "metadata": {},
   "source": [
    "Creating a set with initial values:"
   ]
  },
  {
   "cell_type": "code",
   "execution_count": 59,
   "id": "d9498ee3",
   "metadata": {},
   "outputs": [
    {
     "data": {
      "text/plain": [
       "{1, 2, 3, 4, 5}"
      ]
     },
     "execution_count": 59,
     "metadata": {},
     "output_type": "execute_result"
    }
   ],
   "source": [
    "my_set = {1, 2, 3, 4, 5}\n",
    "my_set"
   ]
  },
  {
   "cell_type": "markdown",
   "id": "2d035083",
   "metadata": {},
   "source": [
    "Adding Elements:\n",
    "\n",
    "Adding a single element to a set:"
   ]
  },
  {
   "cell_type": "code",
   "execution_count": 57,
   "id": "d9b85f0f",
   "metadata": {},
   "outputs": [
    {
     "data": {
      "text/plain": [
       "{1, 2, 3, 4}"
      ]
     },
     "execution_count": 57,
     "metadata": {},
     "output_type": "execute_result"
    }
   ],
   "source": [
    "my_set = {1, 2, 3}\n",
    "my_set.add(4)\n",
    "my_set"
   ]
  },
  {
   "cell_type": "markdown",
   "id": "9b75bb6b",
   "metadata": {},
   "source": [
    "Adding multiple elements to a set:"
   ]
  },
  {
   "cell_type": "code",
   "execution_count": 55,
   "id": "690f058a",
   "metadata": {},
   "outputs": [
    {
     "data": {
      "text/plain": [
       "{1, 2, 3, 4, 5, 6}"
      ]
     },
     "execution_count": 55,
     "metadata": {},
     "output_type": "execute_result"
    }
   ],
   "source": [
    "my_set = {1, 2, 3}\n",
    "my_set.update([4, 5, 6])\n",
    "my_set"
   ]
  },
  {
   "cell_type": "markdown",
   "id": "cbde7855",
   "metadata": {},
   "source": [
    "Removing Elements:\n",
    "\n",
    "Removing an element from a set:"
   ]
  },
  {
   "cell_type": "code",
   "execution_count": 53,
   "id": "e6c8e86d",
   "metadata": {},
   "outputs": [
    {
     "data": {
      "text/plain": [
       "{1, 2, 4}"
      ]
     },
     "execution_count": 53,
     "metadata": {},
     "output_type": "execute_result"
    }
   ],
   "source": [
    "my_set = {1, 2, 3, 4}\n",
    "my_set.remove(3)\n",
    "my_set"
   ]
  },
  {
   "cell_type": "markdown",
   "id": "976c0ad4",
   "metadata": {},
   "source": [
    "Removing an element from a set without raising an error if not found:"
   ]
  },
  {
   "cell_type": "code",
   "execution_count": 52,
   "id": "659a9649",
   "metadata": {},
   "outputs": [
    {
     "data": {
      "text/plain": [
       "{1, 2, 3, 4}"
      ]
     },
     "execution_count": 52,
     "metadata": {},
     "output_type": "execute_result"
    }
   ],
   "source": [
    "my_set = {1, 2, 3, 4}\n",
    "my_set.discard(5)\n",
    "my_set"
   ]
  },
  {
   "cell_type": "markdown",
   "id": "ac6edd76",
   "metadata": {},
   "source": [
    "Removing and returning an arbitrary element from a set:"
   ]
  },
  {
   "cell_type": "code",
   "execution_count": 46,
   "id": "b21e579f",
   "metadata": {},
   "outputs": [
    {
     "data": {
      "text/plain": [
       "1"
      ]
     },
     "execution_count": 46,
     "metadata": {},
     "output_type": "execute_result"
    }
   ],
   "source": [
    "my_set = {1, 2, 3, 4}\n",
    "popped_element = my_set.pop()\n",
    "popped_element"
   ]
  },
  {
   "cell_type": "code",
   "execution_count": 47,
   "id": "60cae897",
   "metadata": {},
   "outputs": [
    {
     "data": {
      "text/plain": [
       "2"
      ]
     },
     "execution_count": 47,
     "metadata": {},
     "output_type": "execute_result"
    }
   ],
   "source": [
    "popped_element = my_set.pop()\n",
    "popped_element"
   ]
  },
  {
   "cell_type": "code",
   "execution_count": 48,
   "id": "c9ed1d3a",
   "metadata": {},
   "outputs": [
    {
     "data": {
      "text/plain": [
       "{3, 4}"
      ]
     },
     "execution_count": 48,
     "metadata": {},
     "output_type": "execute_result"
    }
   ],
   "source": [
    "my_set"
   ]
  },
  {
   "cell_type": "markdown",
   "id": "87fea281",
   "metadata": {},
   "source": [
    "Clearing all elements from a set:"
   ]
  },
  {
   "cell_type": "code",
   "execution_count": 45,
   "id": "b88a5c56",
   "metadata": {},
   "outputs": [
    {
     "data": {
      "text/plain": [
       "set()"
      ]
     },
     "execution_count": 45,
     "metadata": {},
     "output_type": "execute_result"
    }
   ],
   "source": [
    "my_set = {1, 2, 3, 4}\n",
    "my_set.clear()\n",
    "my_set"
   ]
  },
  {
   "cell_type": "markdown",
   "id": "b9197398",
   "metadata": {},
   "source": [
    "Set Operations:\n",
    "\n",
    "Union of two sets:"
   ]
  },
  {
   "cell_type": "code",
   "execution_count": 44,
   "id": "e47ee759",
   "metadata": {},
   "outputs": [
    {
     "data": {
      "text/plain": [
       "{1, 2, 3, 4, 5}"
      ]
     },
     "execution_count": 44,
     "metadata": {},
     "output_type": "execute_result"
    }
   ],
   "source": [
    "set1 = {1, 2, 3}\n",
    "set2 = {3, 4, 5}\n",
    "union_set = set1.union(set2)\n",
    "union_set"
   ]
  },
  {
   "cell_type": "markdown",
   "id": "65f53e6b",
   "metadata": {},
   "source": [
    "Intersection of two sets:"
   ]
  },
  {
   "cell_type": "code",
   "execution_count": 43,
   "id": "2a66d76c",
   "metadata": {},
   "outputs": [
    {
     "data": {
      "text/plain": [
       "{3}"
      ]
     },
     "execution_count": 43,
     "metadata": {},
     "output_type": "execute_result"
    }
   ],
   "source": [
    "set1 = {1, 2, 3}\n",
    "set2 = {3, 4, 5}\n",
    "intersection_set = set1.intersection(set2)\n",
    "intersection_set"
   ]
  },
  {
   "cell_type": "markdown",
   "id": "d08f0259",
   "metadata": {},
   "source": [
    "Difference between two sets:"
   ]
  },
  {
   "cell_type": "code",
   "execution_count": 42,
   "id": "d260032b",
   "metadata": {},
   "outputs": [
    {
     "data": {
      "text/plain": [
       "{1, 2}"
      ]
     },
     "execution_count": 42,
     "metadata": {},
     "output_type": "execute_result"
    }
   ],
   "source": [
    "set1 = {1, 2, 3}\n",
    "set2 = {3, 4, 5}\n",
    "difference_set = set1.difference(set2)\n",
    "difference_set"
   ]
  },
  {
   "cell_type": "markdown",
   "id": "3e633c91",
   "metadata": {},
   "source": [
    "Symmetric difference between two sets:"
   ]
  },
  {
   "cell_type": "code",
   "execution_count": 41,
   "id": "efb491b2",
   "metadata": {},
   "outputs": [
    {
     "data": {
      "text/plain": [
       "{1, 2, 4, 5}"
      ]
     },
     "execution_count": 41,
     "metadata": {},
     "output_type": "execute_result"
    }
   ],
   "source": [
    "set1 = {1, 2, 3}\n",
    "set2 = {3, 4, 5}\n",
    "sym_diff_set = set1.symmetric_difference(set2)\n",
    "sym_diff_set"
   ]
  },
  {
   "cell_type": "markdown",
   "id": "a29104d1",
   "metadata": {},
   "source": [
    "Set Membership:\n",
    "\n",
    "Checking if an element is present in a set:"
   ]
  },
  {
   "cell_type": "code",
   "execution_count": 39,
   "id": "eef795c7",
   "metadata": {},
   "outputs": [
    {
     "name": "stdout",
     "output_type": "stream",
     "text": [
      "True\n"
     ]
    }
   ],
   "source": [
    "my_set = {1, 2, 3, 4, 5}\n",
    "print(3 in my_set)  # Output: True"
   ]
  },
  {
   "cell_type": "markdown",
   "id": "102ebedd",
   "metadata": {},
   "source": [
    "Set Comparison:\n",
    "\n",
    "Checking if one set is a subset of another set:"
   ]
  },
  {
   "cell_type": "code",
   "execution_count": 38,
   "id": "c90334df",
   "metadata": {},
   "outputs": [
    {
     "name": "stdout",
     "output_type": "stream",
     "text": [
      "True\n"
     ]
    }
   ],
   "source": [
    "set1 = {1, 2}\n",
    "set2 = {1, 2, 3, 4}\n",
    "print(set1.issubset(set2))  # Output: True"
   ]
  },
  {
   "cell_type": "markdown",
   "id": "25972551",
   "metadata": {},
   "source": [
    "Checking if one set is a superset of another set:\n"
   ]
  },
  {
   "cell_type": "code",
   "execution_count": 37,
   "id": "87547a8b",
   "metadata": {},
   "outputs": [
    {
     "name": "stdout",
     "output_type": "stream",
     "text": [
      "True\n"
     ]
    }
   ],
   "source": [
    "set1 = {1, 2, 3, 4}\n",
    "set2 = {1, 2}\n",
    "print(set1.issuperset(set2))  # Output: True"
   ]
  },
  {
   "cell_type": "markdown",
   "id": "2ba73657",
   "metadata": {},
   "source": [
    "Set Copying:"
   ]
  },
  {
   "cell_type": "code",
   "execution_count": 36,
   "id": "3770a641",
   "metadata": {},
   "outputs": [
    {
     "data": {
      "text/plain": [
       "{1, 2, 3}"
      ]
     },
     "execution_count": 36,
     "metadata": {},
     "output_type": "execute_result"
    }
   ],
   "source": [
    "my_set = {1, 2, 3}\n",
    "new_set = my_set.copy()\n",
    "new_set"
   ]
  },
  {
   "cell_type": "code",
   "execution_count": 34,
   "id": "9c6eb34d",
   "metadata": {},
   "outputs": [
    {
     "name": "stdout",
     "output_type": "stream",
     "text": [
      "[2, 3, 4]\n"
     ]
    }
   ],
   "source": [
    "my_set = {1, 2, 3, 4, 5, 6}\n",
    "my_list = list(my_set)\n",
    "sliced_list = my_list[1:4]\n",
    "print(sliced_list)  # Output: [2, 3, 4]"
   ]
  },
  {
   "cell_type": "markdown",
   "id": "510a7f15",
   "metadata": {},
   "source": [
    "<h2><center>Dictionary</center></h2>\n",
    "len(dictionary): Returns the number of key-value pairs in the dictionary.\n",
    "\n",
    "dictionary[key]: Accesses the value associated with the specified key.\n",
    "\n",
    "dictionary.get(key, default): Accesses the value associated with the specified key. If the key is not found, it returns the default value.\n",
    "\n",
    "dictionary.keys(): Returns a view object containing all the keys in the dictionary.\n",
    "\n",
    "dictionary.values(): Returns a view object containing all the values in the dictionary.\n",
    "\n",
    "dictionary.items(): Returns a view object containing all the key-value pairs in the dictionary.\n",
    "\n",
    "key in dictionary: Checks if a key exists in the dictionary.\n",
    "\n",
    "dictionary.pop(key, default): Removes the specified key and returns its corresponding value. If the key is not found, it returns the default value.\n",
    "\n",
    "dictionary.popitem(): Removes and returns the last key-value pair added to the dictionary.\n",
    "\n",
    "dictionary.clear(): Removes all key-value pairs from the dictionary.\n",
    "\n",
    "dictionary.copy(): Creates a shallow copy of the dictionary.\n",
    "\n",
    "dictionary.update(other_dict): Updates the dictionary with key-value pairs from another dictionary or an iterable of key-value pairs."
   ]
  },
  {
   "cell_type": "markdown",
   "id": "2ae490d6",
   "metadata": {},
   "source": [
    "len(dictionary): Returns the number of key-value pairs in the dictionary."
   ]
  },
  {
   "cell_type": "code",
   "execution_count": 1,
   "id": "caedfa6d",
   "metadata": {},
   "outputs": [
    {
     "name": "stdout",
     "output_type": "stream",
     "text": [
      "3\n"
     ]
    }
   ],
   "source": [
    "my_dict = {'a': 1, 'b': 2, 'c': 3}\n",
    "length = len(my_dict)\n",
    "print(length)  # Output: 3"
   ]
  },
  {
   "cell_type": "markdown",
   "id": "39bf4721",
   "metadata": {},
   "source": [
    "dictionary[key]: Accesses the value associated with the specified key."
   ]
  },
  {
   "cell_type": "code",
   "execution_count": 2,
   "id": "aa7ec209",
   "metadata": {},
   "outputs": [
    {
     "name": "stdout",
     "output_type": "stream",
     "text": [
      "2\n"
     ]
    }
   ],
   "source": [
    "my_dict = {'a': 1, 'b': 2, 'c': 3}\n",
    "value = my_dict['b']\n",
    "print(value)  # Output: 2"
   ]
  },
  {
   "cell_type": "markdown",
   "id": "c7ec9a62",
   "metadata": {},
   "source": [
    "dictionary.get(key, default): Accesses the value associated with the specified key. If the key is not found, it returns the default value."
   ]
  },
  {
   "cell_type": "code",
   "execution_count": 3,
   "id": "a19a0299",
   "metadata": {},
   "outputs": [
    {
     "name": "stdout",
     "output_type": "stream",
     "text": [
      "0\n"
     ]
    }
   ],
   "source": [
    "my_dict = {'a': 1, 'b': 2, 'c': 3}\n",
    "value = my_dict.get('d', 0)\n",
    "print(value)  # Output: 0 (since 'd' is not a key in the dictionary)"
   ]
  },
  {
   "cell_type": "code",
   "execution_count": 4,
   "id": "136dbf13",
   "metadata": {},
   "outputs": [
    {
     "data": {
      "text/plain": [
       "{'a': 1, 'b': 2, 'c': 3}"
      ]
     },
     "execution_count": 4,
     "metadata": {},
     "output_type": "execute_result"
    }
   ],
   "source": [
    "my_dict"
   ]
  },
  {
   "cell_type": "markdown",
   "id": "4ef5249f",
   "metadata": {},
   "source": [
    "dictionary.keys(): Returns a view object containing all the keys in the dictionary."
   ]
  },
  {
   "cell_type": "code",
   "execution_count": 5,
   "id": "265170a6",
   "metadata": {},
   "outputs": [
    {
     "name": "stdout",
     "output_type": "stream",
     "text": [
      "dict_keys(['a', 'b', 'c'])\n"
     ]
    }
   ],
   "source": [
    "my_dict = {'a': 1, 'b': 2, 'c': 3}\n",
    "keys = my_dict.keys()\n",
    "print(keys)  # Output: dict_keys(['a', 'b', 'c'])"
   ]
  },
  {
   "cell_type": "markdown",
   "id": "b882a2b0",
   "metadata": {},
   "source": [
    "dictionary.values(): Returns a view object containing all the values in the dictionary."
   ]
  },
  {
   "cell_type": "code",
   "execution_count": 6,
   "id": "eb351977",
   "metadata": {},
   "outputs": [
    {
     "name": "stdout",
     "output_type": "stream",
     "text": [
      "dict_values([1, 2, 3])\n"
     ]
    }
   ],
   "source": [
    "my_dict = {'a': 1, 'b': 2, 'c': 3}\n",
    "values = my_dict.values()\n",
    "print(values)  # Output: dict_values([1, 2, 3])"
   ]
  },
  {
   "cell_type": "markdown",
   "id": "a1e5695a",
   "metadata": {},
   "source": [
    "dictionary.items(): Returns a view object containing all the key-value pairs in the dictionary."
   ]
  },
  {
   "cell_type": "code",
   "execution_count": 7,
   "id": "ca085025",
   "metadata": {},
   "outputs": [
    {
     "name": "stdout",
     "output_type": "stream",
     "text": [
      "dict_items([('a', 1), ('b', 2), ('c', 3)])\n"
     ]
    }
   ],
   "source": [
    "my_dict = {'a': 1, 'b': 2, 'c': 3}\n",
    "items = my_dict.items()\n",
    "print(items)  # Output: dict_items([('a', 1), ('b', 2), ('c', 3)])"
   ]
  },
  {
   "cell_type": "markdown",
   "id": "bd722491",
   "metadata": {},
   "source": [
    "key in dictionary: Checks if a key exists in the dictionary."
   ]
  },
  {
   "cell_type": "code",
   "execution_count": 8,
   "id": "f29cfb78",
   "metadata": {},
   "outputs": [
    {
     "name": "stdout",
     "output_type": "stream",
     "text": [
      "True\n",
      "False\n"
     ]
    }
   ],
   "source": [
    "my_dict = {'a': 1, 'b': 2, 'c': 3}\n",
    "print('b' in my_dict)  # Output: True\n",
    "print('d' in my_dict)  # Output: False"
   ]
  },
  {
   "cell_type": "markdown",
   "id": "6cc7ba52",
   "metadata": {},
   "source": [
    "dictionary.pop(key, default): Removes the specified key and returns its corresponding value. If the key is not found, it returns the default value."
   ]
  },
  {
   "cell_type": "code",
   "execution_count": 9,
   "id": "d55d7fa0",
   "metadata": {},
   "outputs": [
    {
     "name": "stdout",
     "output_type": "stream",
     "text": [
      "2\n"
     ]
    }
   ],
   "source": [
    "my_dict = {'a': 1, 'b': 2, 'c': 3}\n",
    "value = my_dict.pop('b', 0)\n",
    "print(value)  # Output: 2 (value associated with 'b')"
   ]
  },
  {
   "cell_type": "markdown",
   "id": "8aae5284",
   "metadata": {},
   "source": [
    "dictionary.popitem(): Removes and returns the last key-value pair added to the dictionary.\n"
   ]
  },
  {
   "cell_type": "code",
   "execution_count": 10,
   "id": "d8ae3f22",
   "metadata": {},
   "outputs": [
    {
     "name": "stdout",
     "output_type": "stream",
     "text": [
      "c 3\n"
     ]
    }
   ],
   "source": [
    "my_dict = {'a': 1, 'b': 2, 'c': 3}\n",
    "key, value = my_dict.popitem()\n",
    "print(key, value)  # Output: 'c' 3"
   ]
  },
  {
   "cell_type": "markdown",
   "id": "a69b765b",
   "metadata": {},
   "source": [
    "dictionary.clear(): Removes all key-value pairs from the dictionary.\n"
   ]
  },
  {
   "cell_type": "code",
   "execution_count": 11,
   "id": "f4688f75",
   "metadata": {},
   "outputs": [
    {
     "name": "stdout",
     "output_type": "stream",
     "text": [
      "{}\n"
     ]
    }
   ],
   "source": [
    "my_dict = {'a': 1, 'b': 2, 'c': 3}\n",
    "my_dict.clear()\n",
    "print(my_dict)  # Output: {}"
   ]
  },
  {
   "cell_type": "markdown",
   "id": "ca34d93d",
   "metadata": {},
   "source": [
    "dictionary.copy(): Creates a shallow copy of the dictionary.\n"
   ]
  },
  {
   "cell_type": "code",
   "execution_count": 12,
   "id": "c5dd242d",
   "metadata": {},
   "outputs": [
    {
     "name": "stdout",
     "output_type": "stream",
     "text": [
      "{'a': 1, 'b': 2, 'c': 3}\n"
     ]
    }
   ],
   "source": [
    "my_dict = {'a': 1, 'b': 2, 'c': 3}\n",
    "new_dict = my_dict.copy()\n",
    "print(new_dict)  # Output: {'a': 1, 'b': 2, 'c': 3}"
   ]
  },
  {
   "cell_type": "markdown",
   "id": "3f634525",
   "metadata": {},
   "source": [
    "dictionary.update(other_dict): Updates the dictionary with key-value pairs from another dictionary or an iterable of key-value pairs.\n"
   ]
  },
  {
   "cell_type": "code",
   "execution_count": 13,
   "id": "06af1ea9",
   "metadata": {},
   "outputs": [
    {
     "name": "stdout",
     "output_type": "stream",
     "text": [
      "{'a': 1, 'b': 2, 'c': 3, 'd': 4}\n"
     ]
    }
   ],
   "source": [
    "my_dict = {'a': 1, 'b': 2}\n",
    "other_dict = {'c': 3, 'd': 4}\n",
    "my_dict.update(other_dict)\n",
    "print(my_dict)  # Output: {'a': 1, 'b': 2, 'c': 3, 'd': 4}"
   ]
  },
  {
   "cell_type": "markdown",
   "id": "922a9b82",
   "metadata": {},
   "source": [
    "Creating an empty dictionary:"
   ]
  },
  {
   "cell_type": "code",
   "execution_count": 15,
   "id": "cfa06c71",
   "metadata": {},
   "outputs": [
    {
     "data": {
      "text/plain": [
       "{}"
      ]
     },
     "execution_count": 15,
     "metadata": {},
     "output_type": "execute_result"
    }
   ],
   "source": [
    "empty_dict = {}\n",
    "empty_dict"
   ]
  },
  {
   "cell_type": "markdown",
   "id": "6de4431d",
   "metadata": {},
   "source": [
    "Creating a dictionary with initial key-value pairs:\n"
   ]
  },
  {
   "cell_type": "code",
   "execution_count": 22,
   "id": "da9d24fa",
   "metadata": {},
   "outputs": [
    {
     "data": {
      "text/plain": [
       "{'name': 'John', 'age': 30, 'city': 'New York'}"
      ]
     },
     "execution_count": 22,
     "metadata": {},
     "output_type": "execute_result"
    }
   ],
   "source": [
    "my_dict = {'name': 'John', 'age': 30, 'city': 'New York'}\n",
    "my_dict"
   ]
  },
  {
   "cell_type": "markdown",
   "id": "088cac79",
   "metadata": {},
   "source": [
    "Accessing Values:\n",
    "\n",
    "Accessing the value associated with a key:"
   ]
  },
  {
   "cell_type": "code",
   "execution_count": 17,
   "id": "4b046c98",
   "metadata": {},
   "outputs": [
    {
     "name": "stdout",
     "output_type": "stream",
     "text": [
      "John\n"
     ]
    }
   ],
   "source": [
    "my_dict = {'name': 'John', 'age': 30, 'city': 'New York'}\n",
    "print(my_dict['name'])  # Output: 'John'"
   ]
  },
  {
   "cell_type": "markdown",
   "id": "4d0c5532",
   "metadata": {},
   "source": [
    "Using .get() to access the value with a default if the key is not found:\n"
   ]
  },
  {
   "cell_type": "code",
   "execution_count": 18,
   "id": "f60d19dd",
   "metadata": {},
   "outputs": [
    {
     "name": "stdout",
     "output_type": "stream",
     "text": [
      "N/A\n"
     ]
    }
   ],
   "source": [
    "my_dict = {'name': 'John', 'age': 30, 'city': 'New York'}\n",
    "print(my_dict.get('gender', 'N/A'))  # Output: 'N/A' (since 'gender' key is not found)"
   ]
  },
  {
   "cell_type": "markdown",
   "id": "78714836",
   "metadata": {},
   "source": [
    "Updating Values:\n",
    "\n",
    "Updating an existing value or adding a new key-value pair:"
   ]
  },
  {
   "cell_type": "code",
   "execution_count": 20,
   "id": "c334786a",
   "metadata": {},
   "outputs": [
    {
     "data": {
      "text/plain": [
       "{'name': 'John', 'age': 32, 'city': 'New York', 'country': 'USA'}"
      ]
     },
     "execution_count": 20,
     "metadata": {},
     "output_type": "execute_result"
    }
   ],
   "source": [
    "my_dict = {'name': 'John', 'age': 30, 'city': 'New York'}\n",
    "my_dict['age'] = 32  # Updating the 'age' value to 32\n",
    "my_dict['country'] = 'USA'  # Adding a new key-value pair\n",
    "my_dict"
   ]
  },
  {
   "cell_type": "markdown",
   "id": "ea3ee114",
   "metadata": {},
   "source": [
    "Removing Key-Value Pairs:\n",
    "\n",
    "Removing a key-value pair using the del statement:\n"
   ]
  },
  {
   "cell_type": "code",
   "execution_count": 21,
   "id": "81cc7b00",
   "metadata": {},
   "outputs": [
    {
     "data": {
      "text/plain": [
       "{'name': 'John', 'age': 30}"
      ]
     },
     "execution_count": 21,
     "metadata": {},
     "output_type": "execute_result"
    }
   ],
   "source": [
    "my_dict = {'name': 'John', 'age': 30, 'city': 'New York'}\n",
    "del my_dict['city']  # Removing the 'city' key-value pair\n",
    "my_dict"
   ]
  },
  {
   "cell_type": "markdown",
   "id": "55a53462",
   "metadata": {},
   "source": [
    "Using the pop() method to remove a key-value pair and return the value:\n"
   ]
  },
  {
   "cell_type": "code",
   "execution_count": 23,
   "id": "1a77db89",
   "metadata": {},
   "outputs": [
    {
     "data": {
      "text/plain": [
       "({'name': 'John', 'city': 'New York'}, 30)"
      ]
     },
     "execution_count": 23,
     "metadata": {},
     "output_type": "execute_result"
    }
   ],
   "source": [
    "my_dict = {'name': 'John', 'age': 30, 'city': 'New York'}\n",
    "age_value = my_dict.pop('age')  # Removing 'age' key-value pair and storing the value in age_value\n",
    "my_dict,age_value"
   ]
  },
  {
   "cell_type": "markdown",
   "id": "866790f1",
   "metadata": {},
   "source": [
    "Using the popitem() method to remove and return the last key-value pair added to the dictionary:\n"
   ]
  },
  {
   "cell_type": "code",
   "execution_count": 24,
   "id": "a24178d1",
   "metadata": {},
   "outputs": [
    {
     "data": {
      "text/plain": [
       "{'name': 'John', 'age': 30}"
      ]
     },
     "execution_count": 24,
     "metadata": {},
     "output_type": "execute_result"
    }
   ],
   "source": [
    "my_dict = {'name': 'John', 'age': 30, 'city': 'New York'}\n",
    "key, value = my_dict.popitem()  # Removing and storing the last key-value pair\n",
    "my_dict"
   ]
  },
  {
   "cell_type": "markdown",
   "id": "625d9ded",
   "metadata": {},
   "source": [
    "Checking Existence:\n",
    "\n",
    "Checking if a key exists in the dictionary:\n"
   ]
  },
  {
   "cell_type": "code",
   "execution_count": 25,
   "id": "f112d4cc",
   "metadata": {},
   "outputs": [
    {
     "name": "stdout",
     "output_type": "stream",
     "text": [
      "True\n",
      "False\n"
     ]
    }
   ],
   "source": [
    "my_dict = {'name': 'John', 'age': 30, 'city': 'New York'}\n",
    "print('age' in my_dict)  # Output: True\n",
    "print('gender' in my_dict)  # Output: False"
   ]
  },
  {
   "cell_type": "markdown",
   "id": "89ad9422",
   "metadata": {},
   "source": [
    "Dictionary Views:\n",
    "\n",
    "Getting all keys as a view object:\n"
   ]
  },
  {
   "cell_type": "code",
   "execution_count": 26,
   "id": "06255ce7",
   "metadata": {},
   "outputs": [
    {
     "data": {
      "text/plain": [
       "{'name': 'John', 'age': 30, 'city': 'New York'}"
      ]
     },
     "execution_count": 26,
     "metadata": {},
     "output_type": "execute_result"
    }
   ],
   "source": [
    "my_dict = {'name': 'John', 'age': 30, 'city': 'New York'}\n",
    "keys_view = my_dict.keys()\n",
    "my_dict"
   ]
  },
  {
   "cell_type": "markdown",
   "id": "49cae2c3",
   "metadata": {},
   "source": [
    "Getting all values as a view object:\n"
   ]
  },
  {
   "cell_type": "code",
   "execution_count": 27,
   "id": "0921e40e",
   "metadata": {},
   "outputs": [
    {
     "data": {
      "text/plain": [
       "{'name': 'John', 'age': 30, 'city': 'New York'}"
      ]
     },
     "execution_count": 27,
     "metadata": {},
     "output_type": "execute_result"
    }
   ],
   "source": [
    "my_dict = {'name': 'John', 'age': 30, 'city': 'New York'}\n",
    "values_view = my_dict.values()\n",
    "my_dict"
   ]
  },
  {
   "cell_type": "markdown",
   "id": "f13ed217",
   "metadata": {},
   "source": [
    "Getting all key-value pairs as a view object:"
   ]
  },
  {
   "cell_type": "code",
   "execution_count": 28,
   "id": "65600580",
   "metadata": {},
   "outputs": [
    {
     "data": {
      "text/plain": [
       "{'name': 'John', 'age': 30, 'city': 'New York'}"
      ]
     },
     "execution_count": 28,
     "metadata": {},
     "output_type": "execute_result"
    }
   ],
   "source": [
    "my_dict = {'name': 'John', 'age': 30, 'city': 'New York'}\n",
    "items_view = my_dict.items()\n",
    "my_dict"
   ]
  },
  {
   "cell_type": "markdown",
   "id": "0ca2b3b1",
   "metadata": {},
   "source": [
    "Copying:\n",
    "\n",
    "Creating a shallow copy of the dictionary:"
   ]
  },
  {
   "cell_type": "code",
   "execution_count": 29,
   "id": "6e773d3b",
   "metadata": {},
   "outputs": [
    {
     "data": {
      "text/plain": [
       "{'name': 'John', 'age': 30, 'city': 'New York'}"
      ]
     },
     "execution_count": 29,
     "metadata": {},
     "output_type": "execute_result"
    }
   ],
   "source": [
    "my_dict = {'name': 'John', 'age': 30, 'city': 'New York'}\n",
    "new_dict = my_dict.copy()\n",
    "new_dict"
   ]
  },
  {
   "cell_type": "markdown",
   "id": "2cf93000",
   "metadata": {},
   "source": [
    "Clearing the Dictionary:\n",
    "\n",
    "Removing all key-value pairs from the dictionary:\n"
   ]
  },
  {
   "cell_type": "code",
   "execution_count": 31,
   "id": "ccb6caf4",
   "metadata": {},
   "outputs": [
    {
     "data": {
      "text/plain": [
       "{}"
      ]
     },
     "execution_count": 31,
     "metadata": {},
     "output_type": "execute_result"
    }
   ],
   "source": [
    "my_dict = {'name': 'John', 'age': 30, 'city': 'New York'}\n",
    "my_dict.clear()\n",
    "my_dict"
   ]
  }
 ],
 "metadata": {
  "kernelspec": {
   "display_name": "Python 3 (ipykernel)",
   "language": "python",
   "name": "python3"
  },
  "language_info": {
   "codemirror_mode": {
    "name": "ipython",
    "version": 3
   },
   "file_extension": ".py",
   "mimetype": "text/x-python",
   "name": "python",
   "nbconvert_exporter": "python",
   "pygments_lexer": "ipython3",
   "version": "3.8.10"
  }
 },
 "nbformat": 4,
 "nbformat_minor": 5
}

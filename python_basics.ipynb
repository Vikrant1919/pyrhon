{
 "cells": [
  {
   "cell_type": "markdown",
   "id": "348ab30f",
   "metadata": {},
   "source": [
    "<h1><center>Python Assignment 1</center></h1>\n",
    "<h2><center>Basic Python programs</center></h2>\n",
    "\n",
    "1. Python program to print \"Hello Python\""
   ]
  },
  {
   "cell_type": "code",
   "execution_count": 2,
   "id": "ca2a3a41",
   "metadata": {},
   "outputs": [
    {
     "name": "stdout",
     "output_type": "stream",
     "text": [
      "Hello Python\n"
     ]
    }
   ],
   "source": [
    "print('Hello Python')"
   ]
  },
  {
   "cell_type": "markdown",
   "id": "ff120e27",
   "metadata": {},
   "source": [
    "2. Python program to do arithmetical operations"
   ]
  },
  {
   "cell_type": "code",
   "execution_count": 3,
   "id": "76e93740",
   "metadata": {},
   "outputs": [
    {
     "name": "stdout",
     "output_type": "stream",
     "text": [
      "enter a number:4\n",
      "enter a number:2\n",
      "addition:  6\n",
      "sub:  2\n",
      "mul:  8\n",
      "div:  2.0\n",
      "floor div:  2\n",
      "mod:  0\n",
      "to power:  16\n"
     ]
    }
   ],
   "source": [
    "a=int(input('enter a number:'))\n",
    "b= int(input('enter a number:'))\n",
    "\n",
    "print('addition: ',a+b)\n",
    "print('sub: ',a-b)\n",
    "print('mul: ',a*b)\n",
    "print('div: ',a/b)\n",
    "print('floor div: ',a//b)\n",
    "print('mod: ',a%b)\n",
    "print('to power: ',a**b)"
   ]
  },
  {
   "cell_type": "markdown",
   "id": "43f202a7",
   "metadata": {},
   "source": [
    "3. Python program to find the area of a triangle"
   ]
  },
  {
   "cell_type": "code",
   "execution_count": 4,
   "id": "efdb8124",
   "metadata": {},
   "outputs": [
    {
     "name": "stdout",
     "output_type": "stream",
     "text": [
      "enter base of trangle: 5\n",
      "enter height of trangle: 3\n",
      "area of trangle:  7.5\n"
     ]
    }
   ],
   "source": [
    "base=int(input('enter base of trangle: '))\n",
    "height= int(input('enter height of trangle: '))\n",
    "area_of_trangle=0.5*base*height\n",
    "print('area of trangle: ',area_of_trangle)"
   ]
  },
  {
   "cell_type": "markdown",
   "id": "f592e85b",
   "metadata": {},
   "source": [
    "4. Python program to solve quadratic equation"
   ]
  },
  {
   "cell_type": "code",
   "execution_count": 5,
   "id": "82b642e1",
   "metadata": {},
   "outputs": [
    {
     "name": "stdout",
     "output_type": "stream",
     "text": [
      "Enter the coefficient of x^2: 3\n",
      "Enter the coefficient of x: 4\n",
      "Enter the constant term: 5\n",
      "The roots of the quadratic equation are: ((-0.6666666666666666+1.1055415967851332j), (-0.6666666666666666-1.1055415967851332j))\n"
     ]
    }
   ],
   "source": [
    "import cmath\n",
    "\n",
    "def solve_quadratic(a, b, c):\n",
    "    # Calculate the discriminant\n",
    "    discriminant = (b ** 2) - (4 * a * c)\n",
    "    \n",
    "    # Check if the equation has real or complex roots\n",
    "    if discriminant >= 0:\n",
    "        # Calculate the real roots\n",
    "        root1 = (-b + cmath.sqrt(discriminant)) / (2 * a)\n",
    "        root2 = (-b - cmath.sqrt(discriminant)) / (2 * a)\n",
    "        \n",
    "        return root1, root2\n",
    "    else:\n",
    "        # Calculate the complex roots\n",
    "        real_part = -b / (2 * a)\n",
    "        imaginary_part = cmath.sqrt(-discriminant) / (2 * a)\n",
    "        \n",
    "        root1 = complex(real_part, imaginary_part)\n",
    "        root2 = complex(real_part, -imaginary_part)\n",
    "        \n",
    "        return root1, root2\n",
    "\n",
    "# Example usage\n",
    "a = float(input(\"Enter the coefficient of x^2: \"))\n",
    "b = float(input(\"Enter the coefficient of x: \"))\n",
    "c = float(input(\"Enter the constant term: \"))\n",
    "\n",
    "roots = solve_quadratic(a, b, c)\n",
    "print(\"The roots of the quadratic equation are:\", roots)"
   ]
  },
  {
   "cell_type": "markdown",
   "id": "0c8a22b0",
   "metadata": {},
   "source": [
    "5. Python program to swap two variables"
   ]
  },
  {
   "cell_type": "code",
   "execution_count": 6,
   "id": "2c5d2491",
   "metadata": {},
   "outputs": [
    {
     "name": "stdout",
     "output_type": "stream",
     "text": [
      "enter a number:4\n",
      "enter a number:5\n",
      "4 5\n",
      "5 4\n",
      "4 5\n"
     ]
    }
   ],
   "source": [
    "a=int(input('enter a number:'))\n",
    "b= int(input('enter a number:'))\n",
    "print(a,b)\n",
    "c=a\n",
    "a=b\n",
    "b=c\n",
    "print(a,b)\n",
    "a=a+b\n",
    "b=a-b\n",
    "a=a-b\n",
    "print(a,b)"
   ]
  },
  {
   "cell_type": "markdown",
   "id": "95d9eb27",
   "metadata": {},
   "source": [
    "6. Python program to generate a random number"
   ]
  },
  {
   "cell_type": "code",
   "execution_count": 8,
   "id": "4eca0630",
   "metadata": {},
   "outputs": [
    {
     "name": "stdout",
     "output_type": "stream",
     "text": [
      "8\n"
     ]
    }
   ],
   "source": [
    "import random\n",
    "print(random.randint(1,10))"
   ]
  },
  {
   "cell_type": "markdown",
   "id": "da45c86c",
   "metadata": {},
   "source": [
    "7. Python program to convert kilometers to miles"
   ]
  },
  {
   "cell_type": "code",
   "execution_count": 9,
   "id": "c44b77ba",
   "metadata": {},
   "outputs": [
    {
     "name": "stdout",
     "output_type": "stream",
     "text": [
      "enter distance in kilometer: 4\n",
      "miles:  2.485484\n"
     ]
    }
   ],
   "source": [
    "kilometers = float(input('enter distance in kilometer: '))\n",
    "miles = kilometers * 0.621371\n",
    "print('miles: ',miles)"
   ]
  },
  {
   "cell_type": "markdown",
   "id": "a9be8ce0",
   "metadata": {},
   "source": [
    "8. Python program to convert Celsius to Fahrenheit"
   ]
  },
  {
   "cell_type": "code",
   "execution_count": 10,
   "id": "0c63b4da",
   "metadata": {},
   "outputs": [
    {
     "name": "stdout",
     "output_type": "stream",
     "text": [
      "enter temprature in celsious: 36\n",
      "temp in fahrenheit:  96.8\n"
     ]
    }
   ],
   "source": [
    "celsious= float(input('enter temprature in celsious: '))\n",
    "fahrenheit = (celsious* 1.8 )+32\n",
    "print('temp in fahrenheit: ',fahrenheit)"
   ]
  },
  {
   "cell_type": "markdown",
   "id": "eb0da12c",
   "metadata": {},
   "source": [
    "9. Python program to display calendar"
   ]
  },
  {
   "cell_type": "code",
   "execution_count": 11,
   "id": "704fb7a9",
   "metadata": {},
   "outputs": [
    {
     "name": "stdout",
     "output_type": "stream",
     "text": [
      "Enter the year: 2001\n",
      "Enter the month (1-12): 5\n",
      "May 2001\n",
      "Mon  Tue  Wed  Thu  Fri  Sat  Sun\n",
      "      1    2    3    4    5    6   \n",
      " 7    8    9   10   11   12   13   \n",
      "14   15   16   17   18   19   20   \n",
      "21   22   23   24   25   26   27   \n",
      "28   29   30   31                  \n"
     ]
    }
   ],
   "source": [
    "import calendar\n",
    "\n",
    "year = int(input(\"Enter the year: \"))\n",
    "month = int(input(\"Enter the month (1-12): \"))\n",
    "cal = calendar.monthcalendar(year, month)\n",
    "\n",
    "print(calendar.month_name[month], year)\n",
    "print(\"Mon  Tue  Wed  Thu  Fri  Sat  Sun\")\n",
    "\n",
    "for week in cal:\n",
    "    week_str = \"\"\n",
    "    for day in week:\n",
    "        if day == 0:\n",
    "            week_str += \"     \" \n",
    "        else:\n",
    "            week_str += \"{:2d}   \".format(day)  \n",
    "    print(week_str)"
   ]
  },
  {
   "cell_type": "markdown",
   "id": "93256697",
   "metadata": {},
   "source": [
    "<h2><center>Python programs with conditions and loops</center></h2>"
   ]
  },
  {
   "cell_type": "markdown",
   "id": "f43dbe99",
   "metadata": {},
   "source": [
    "1. Python Program to Check if a Number is Positive, Negative or Zero"
   ]
  },
  {
   "cell_type": "code",
   "execution_count": 13,
   "id": "5e3880d8",
   "metadata": {},
   "outputs": [
    {
     "name": "stdout",
     "output_type": "stream",
     "text": [
      "enter a number: -4\n",
      "num is -ve\n"
     ]
    }
   ],
   "source": [
    "number1 = int(input('enter a number: '))\n",
    "if number1<0:\n",
    "    print('num is -ve')\n",
    "elif number1>0:\n",
    "    print('num is +ve')\n",
    "else:\n",
    "    print('num is 0 zero')"
   ]
  },
  {
   "cell_type": "markdown",
   "id": "0a15a214",
   "metadata": {},
   "source": [
    "2. Python Program to Check if a Number is Odd or Even"
   ]
  },
  {
   "cell_type": "code",
   "execution_count": 22,
   "id": "732356d6",
   "metadata": {},
   "outputs": [
    {
     "name": "stdout",
     "output_type": "stream",
     "text": [
      "enter a number: 8\n",
      "num is even\n"
     ]
    }
   ],
   "source": [
    "number1 = int(input('enter a number: '))\n",
    "if number1&1:\n",
    "    print('num is odd')\n",
    "else:\n",
    "    print('num is even')"
   ]
  },
  {
   "cell_type": "markdown",
   "id": "8ddbbb65",
   "metadata": {},
   "source": [
    "3. Python Program to Check Leap Year"
   ]
  },
  {
   "cell_type": "code",
   "execution_count": 24,
   "id": "b44f1a77",
   "metadata": {},
   "outputs": [
    {
     "name": "stdout",
     "output_type": "stream",
     "text": [
      "Enter a year: 2022\n",
      "2022 is not a leap year.\n"
     ]
    }
   ],
   "source": [
    "year = int(input(\"Enter a year: \"))\n",
    "if year % 4 == 0:\n",
    "    if year % 100 == 0:\n",
    "        if year % 400 == 0:\n",
    "            print(year, \"is a leap year.\")\n",
    "        else:\n",
    "            print(year, \"is not a leap year.\")\n",
    "    else:\n",
    "        print(year, \"is a leap year.\")\n",
    "else:\n",
    "    print(year, \"is not a leap year.\")"
   ]
  },
  {
   "cell_type": "markdown",
   "id": "2d7b4884",
   "metadata": {},
   "source": [
    "4. Python Program to Check Prime Number"
   ]
  },
  {
   "cell_type": "code",
   "execution_count": 36,
   "id": "c8e2d7f7",
   "metadata": {},
   "outputs": [
    {
     "name": "stdout",
     "output_type": "stream",
     "text": [
      "enter a num23\n",
      "prime num\n"
     ]
    }
   ],
   "source": [
    "number1 = int(input('enter a num '))\n",
    "f=0\n",
    "if number1<3:\n",
    "    print('not a prime num')\n",
    "else:\n",
    "    for i in range(2,int(number1**0.5) + 1):\n",
    "        if number1%i==0:\n",
    "            print('not prime num')\n",
    "            f=1\n",
    "            break\n",
    "if f==0:\n",
    "    print('prime num')"
   ]
  },
  {
   "cell_type": "markdown",
   "id": "d49a65ec",
   "metadata": {},
   "source": [
    "5. Python Program to Print all Prime Numbers in an Interval"
   ]
  },
  {
   "cell_type": "code",
   "execution_count": 37,
   "id": "155045fb",
   "metadata": {},
   "outputs": [
    {
     "name": "stdout",
     "output_type": "stream",
     "text": [
      "enter a num 3\n",
      "enter a num 50\n",
      "3\n",
      "5\n",
      "7\n",
      "11\n",
      "13\n",
      "17\n",
      "19\n",
      "23\n",
      "29\n",
      "31\n",
      "37\n",
      "41\n",
      "43\n",
      "47\n"
     ]
    }
   ],
   "source": [
    "low = int(input('enter a num '))\n",
    "hi = int(input('enter a num '))\n",
    "for i in range(low,hi+1):\n",
    "    f=0\n",
    "    if i<3:\n",
    "        print('not a prime num')\n",
    "    else:\n",
    "        for j in range(2,int(i**0.5) + 1):\n",
    "            if i%j==0:\n",
    "                f=1\n",
    "                break\n",
    "    if f==0:\n",
    "        print(i)"
   ]
  },
  {
   "cell_type": "markdown",
   "id": "0d00652f",
   "metadata": {},
   "source": [
    "6. Python Program to Find the Factorial of a Number"
   ]
  },
  {
   "cell_type": "code",
   "execution_count": 39,
   "id": "ce4f50ac",
   "metadata": {},
   "outputs": [
    {
     "name": "stdout",
     "output_type": "stream",
     "text": [
      "enter a num 4\n",
      "fact:  24\n"
     ]
    }
   ],
   "source": [
    "number1 = int(input('enter a num '))\n",
    "fact=1\n",
    "for i in range(1,number1+1):\n",
    "    fact=fact*i\n",
    "print('fact: ',fact)"
   ]
  },
  {
   "cell_type": "markdown",
   "id": "bb88e0bd",
   "metadata": {},
   "source": [
    "7. Python Program to Display the multiplication Table"
   ]
  },
  {
   "cell_type": "code",
   "execution_count": 40,
   "id": "85434a83",
   "metadata": {},
   "outputs": [
    {
     "name": "stdout",
     "output_type": "stream",
     "text": [
      "enter a num 2\n",
      "2\n",
      "4\n",
      "6\n",
      "8\n",
      "10\n",
      "12\n",
      "14\n",
      "16\n",
      "18\n",
      "20\n"
     ]
    }
   ],
   "source": [
    "number1 = int(input('enter a num '))\n",
    "for i in range(1,11):\n",
    "    print(number1*i)"
   ]
  },
  {
   "cell_type": "markdown",
   "id": "cd506d88",
   "metadata": {},
   "source": [
    "8. Python Program to Print the Fibonacci sequence"
   ]
  },
  {
   "cell_type": "code",
   "execution_count": 46,
   "id": "d241ddbb",
   "metadata": {},
   "outputs": [
    {
     "name": "stdout",
     "output_type": "stream",
     "text": [
      "enter number of element9\n",
      "0\n",
      "1\n",
      "1\n",
      "2\n",
      "3\n",
      "5\n",
      "8\n",
      "13\n",
      "21\n"
     ]
    }
   ],
   "source": [
    "a=0\n",
    "b=1\n",
    "c=0\n",
    "n=int(input('enter number of element'))\n",
    "while n!=0:\n",
    "    c=a+c\n",
    "    print(c)\n",
    "    a=b\n",
    "    b=c\n",
    "    n-=1"
   ]
  },
  {
   "cell_type": "markdown",
   "id": "84f812ad",
   "metadata": {},
   "source": [
    "9. Python Program to Check Armstrong Number"
   ]
  },
  {
   "cell_type": "code",
   "execution_count": 6,
   "id": "6a3bc0c4",
   "metadata": {},
   "outputs": [
    {
     "data": {
      "text/plain": [
       "1"
      ]
     },
     "execution_count": 6,
     "metadata": {},
     "output_type": "execute_result"
    }
   ],
   "source": [
    "1%10"
   ]
  },
  {
   "cell_type": "code",
   "execution_count": 9,
   "id": "c9ebbd05",
   "metadata": {},
   "outputs": [
    {
     "name": "stdout",
     "output_type": "stream",
     "text": [
      "enter a num 153\n",
      "amstrong\n"
     ]
    }
   ],
   "source": [
    "num = int(input('enter a num '))\n",
    "temp=num\n",
    "total=0\n",
    "while temp>0:\n",
    "    digit=temp%10\n",
    "    total+=digit**3\n",
    "    temp=temp//10\n",
    "if num==total:\n",
    "    print('amstrong')\n",
    "else:\n",
    "    print('not amstrong')"
   ]
  },
  {
   "cell_type": "markdown",
   "id": "b9b0825b",
   "metadata": {},
   "source": [
    "10. Python Program to Find Armstrong Number in an Interval"
   ]
  },
  {
   "cell_type": "code",
   "execution_count": 10,
   "id": "9efc982d",
   "metadata": {},
   "outputs": [
    {
     "name": "stdout",
     "output_type": "stream",
     "text": [
      "enter a num 2\n",
      "enter a num 500\n",
      "153\n",
      "370\n",
      "371\n",
      "407\n"
     ]
    }
   ],
   "source": [
    "num1 = int(input('enter a num '))\n",
    "num2 = int(input('enter a num '))\n",
    "for i in range(num1,num2+1):\n",
    "    temp=i\n",
    "    total=0\n",
    "    while temp>0:\n",
    "        digit=temp%10\n",
    "        total+=digit**3\n",
    "        temp=temp//10\n",
    "    if i==total:\n",
    "        print(i)"
   ]
  },
  {
   "cell_type": "markdown",
   "id": "6409c71d",
   "metadata": {},
   "source": [
    "11. Python Program to Find the Sum of Natural Numbers"
   ]
  },
  {
   "cell_type": "code",
   "execution_count": 14,
   "id": "d0272e9c",
   "metadata": {},
   "outputs": [
    {
     "name": "stdout",
     "output_type": "stream",
     "text": [
      "enter a num 16\n",
      "sum=  136\n"
     ]
    }
   ],
   "source": [
    "num1 = int(input('enter a num '))\n",
    "sum1=0\n",
    "if num1>0:\n",
    "    while num1>0:\n",
    "        sum1+=num1\n",
    "        num1-=1\n",
    "    print('sum= ',sum1)\n",
    "else:\n",
    "    print('sum= 0')"
   ]
  },
  {
   "cell_type": "markdown",
   "id": "ed3c477c",
   "metadata": {},
   "source": [
    "Centered text!"
   ]
  },
  {
   "cell_type": "markdown",
   "id": "066ae3d8",
   "metadata": {},
   "source": [
    "<h1><center>Python Assignment 4</center></h1>\n",
    "\n",
    "<h2><center>Topics: Loops</center></h2>\n",
    "\n",
    "1. Write a python script to check whether a given number is prime or not."
   ]
  },
  {
   "cell_type": "code",
   "execution_count": 27,
   "id": "f5e87f93",
   "metadata": {},
   "outputs": [
    {
     "name": "stdout",
     "output_type": "stream",
     "text": [
      "enter a num 11\n",
      "prime\n"
     ]
    }
   ],
   "source": [
    "num1 = int(input('enter a num '))\n",
    "flage=1\n",
    "for i in range(2,int(num1/2)+1):\n",
    "    if num1%i==0:\n",
    "        flage=0\n",
    "        break\n",
    "if flage==1:\n",
    "    print('prime')\n",
    "else:\n",
    "    print('not prime')"
   ]
  },
  {
   "cell_type": "markdown",
   "id": "95fc45d4",
   "metadata": {},
   "source": [
    "2. Write a python script to print next prime number of a given number."
   ]
  },
  {
   "cell_type": "code",
   "execution_count": 38,
   "id": "c9702fdb",
   "metadata": {},
   "outputs": [
    {
     "name": "stdout",
     "output_type": "stream",
     "text": [
      "enter a num 7\n",
      "11\n"
     ]
    }
   ],
   "source": [
    "num1 = int(input('enter a num '))\n",
    "num2=num1\n",
    "key=False\n",
    "while not key:\n",
    "    flage=1\n",
    "    num2+=1\n",
    "    for i in range(2,int(num2/2)+1):\n",
    "        if num2%i==0:\n",
    "            flage=0\n",
    "            break\n",
    "    if flage==1:\n",
    "        print(num2)\n",
    "        if flage==1:\n",
    "            key=True\n",
    "    "
   ]
  },
  {
   "cell_type": "markdown",
   "id": "9de800e7",
   "metadata": {},
   "source": [
    "3. Write a python script to print first N prime number. Value of N is given by user."
   ]
  },
  {
   "cell_type": "code",
   "execution_count": 60,
   "id": "c339af46",
   "metadata": {},
   "outputs": [
    {
     "name": "stdout",
     "output_type": "stream",
     "text": [
      "enter a no50\n",
      "2\n",
      "3\n",
      "5\n",
      "7\n",
      "11\n",
      "13\n",
      "17\n",
      "19\n",
      "23\n",
      "29\n",
      "31\n",
      "37\n",
      "41\n",
      "43\n",
      "47\n"
     ]
    }
   ],
   "source": [
    "num1= int(input('enter a no'))\n",
    "for i in range (2,num1+1):\n",
    "    flage= 1\n",
    "    for j in range(2,i):\n",
    "        if i%j==0:\n",
    "            flage=0\n",
    "            break\n",
    "\n",
    "    if flage==1:\n",
    "        print(i)\n",
    "        "
   ]
  },
  {
   "cell_type": "code",
   "execution_count": 58,
   "id": "74cdcc9a",
   "metadata": {},
   "outputs": [
    {
     "name": "stdout",
     "output_type": "stream",
     "text": [
      "Enter the value of N: 50\n",
      "Prime numbers up to 50 are:\n",
      "2 3 5 7 11 13 17 19 23 29 31 37 41 43 47 "
     ]
    }
   ],
   "source": [
    "N = int(input(\"Enter the value of N: \"))\n",
    "print(\"Prime numbers up to\", N, \"are:\")\n",
    "\n",
    "for number in range(2, N + 1):\n",
    "    is_prime = True\n",
    "\n",
    "    for i in range(2, int(number ** 0.5) + 1):\n",
    "        if number % i == 0:\n",
    "            is_prime = False\n",
    "            break\n",
    "\n",
    "    if is_prime:\n",
    "        print(number, end=' ')"
   ]
  },
  {
   "cell_type": "markdown",
   "id": "9503aa11",
   "metadata": {},
   "source": [
    "4. Write a python script to print all prime number between two given numbers."
   ]
  },
  {
   "cell_type": "code",
   "execution_count": 62,
   "id": "71381c20",
   "metadata": {},
   "outputs": [
    {
     "name": "stdout",
     "output_type": "stream",
     "text": [
      "enter a num 20\n",
      "enter a num 50\n",
      "Prime numbers from 20  to 50 are:\n",
      "23 29 31 37 41 43 47 "
     ]
    }
   ],
   "source": [
    "num1 = int(input('enter a num '))\n",
    "num2 = int(input('enter a num '))\n",
    "print(\"Prime numbers from\",num1,\" to\", num2, \"are:\")\n",
    "\n",
    "for number in range(num1, num2 + 1):\n",
    "    is_prime = True\n",
    "\n",
    "    for i in range(2, int(number ** 0.5) + 1):\n",
    "        if number % i == 0:\n",
    "            is_prime = False\n",
    "            break\n",
    "\n",
    "    if is_prime:\n",
    "        print(number, end=' ')"
   ]
  },
  {
   "cell_type": "markdown",
   "id": "6f6b6dd6",
   "metadata": {},
   "source": [
    "5. Write a python script to check whether two given number are co-prime or not."
   ]
  },
  {
   "cell_type": "code",
   "execution_count": 69,
   "id": "5652bb31",
   "metadata": {},
   "outputs": [
    {
     "name": "stdout",
     "output_type": "stream",
     "text": [
      "enter a num 11\n",
      "enter a num 19\n",
      "co prime\n"
     ]
    }
   ],
   "source": [
    "num1 = int(input('enter a num '))\n",
    "num2 = int(input('enter a num '))\n",
    "flage=1\n",
    "for i in range(2,int(num1/2)+1):\n",
    "    if num1%i==0:\n",
    "        flage=0\n",
    "        break\n",
    "if flage==1:\n",
    "    for i in range(2,int(num2/2)+1):\n",
    "        if num2%i==0:\n",
    "            flage=0\n",
    "            break\n",
    "    if flage==1:\n",
    "        print('co prime')\n",
    "    else:\n",
    "        print('not co prime')\n",
    "else:\n",
    "    print('not co prime')"
   ]
  },
  {
   "cell_type": "markdown",
   "id": "02d59e72",
   "metadata": {},
   "source": [
    "6. Write a python script to print first N odd natural number in reverse order using range\n",
    "function in for loop."
   ]
  },
  {
   "cell_type": "code",
   "execution_count": 2,
   "id": "4bbda1f4",
   "metadata": {},
   "outputs": [
    {
     "name": "stdout",
     "output_type": "stream",
     "text": [
      "enter a num 20\n",
      "19\n",
      "17\n",
      "15\n",
      "13\n",
      "11\n",
      "9\n",
      "7\n",
      "5\n",
      "3\n",
      "1\n"
     ]
    }
   ],
   "source": [
    "num1 = int(input('enter a num '))\n",
    "for i in range(num1,0,-1):\n",
    "    if i%2==1:\n",
    "        print(i)"
   ]
  },
  {
   "cell_type": "markdown",
   "id": "dd17d0ca",
   "metadata": {},
   "source": [
    "7. Write a python script to print first N even natural number in reverse order using range\n",
    "function in for loop."
   ]
  },
  {
   "cell_type": "code",
   "execution_count": 3,
   "id": "41f0b5e0",
   "metadata": {},
   "outputs": [
    {
     "name": "stdout",
     "output_type": "stream",
     "text": [
      "enter a num 20\n",
      "20\n",
      "18\n",
      "16\n",
      "14\n",
      "12\n",
      "10\n",
      "8\n",
      "6\n",
      "4\n",
      "2\n"
     ]
    }
   ],
   "source": [
    "num1 = int(input('enter a num '))\n",
    "for i in range(num1,0,-1):\n",
    "    if i%2==0:\n",
    "        print(i)"
   ]
  },
  {
   "cell_type": "markdown",
   "id": "86f78a21",
   "metadata": {},
   "source": [
    "8. Write a python script to print all prime factors of a given number."
   ]
  },
  {
   "cell_type": "code",
   "execution_count": 4,
   "id": "9822aa84",
   "metadata": {},
   "outputs": [
    {
     "name": "stdout",
     "output_type": "stream",
     "text": [
      "enter a num 20\n",
      "19 17 13 11 7 5 3 "
     ]
    }
   ],
   "source": [
    "num1 = int(input('enter a num '))\n",
    "for i in range(num1,2,-1):\n",
    "    is_prime = True\n",
    "\n",
    "    for j in range(2, int(i ** 0.5) + 1):\n",
    "        if i % j == 0:\n",
    "            is_prime = False\n",
    "            break\n",
    "\n",
    "    if is_prime:\n",
    "        print(i, end=' ')"
   ]
  },
  {
   "cell_type": "markdown",
   "id": "c45bbad7",
   "metadata": {},
   "source": [
    "9. Write a python script to calculate LCM of two numbers."
   ]
  },
  {
   "cell_type": "code",
   "execution_count": 12,
   "id": "892cd484",
   "metadata": {},
   "outputs": [
    {
     "name": "stdout",
     "output_type": "stream",
     "text": [
      "enter a num 3\n",
      "enter a num 4\n",
      "LCM=  12\n"
     ]
    }
   ],
   "source": [
    "num1 = int(input('enter a num '))\n",
    "num2 = int(input('enter a num '))\n",
    "if num1>num2:\n",
    "    n=num1\n",
    "    flage=1\n",
    "    while flage!=0:\n",
    "        if n%num2==0 and n%num1==0:\n",
    "            flage=0\n",
    "            break\n",
    "        n+=1\n",
    "    if flage==0:\n",
    "        print('LCM= ',n)\n",
    "if num2>num1:\n",
    "    n=num2\n",
    "    flage=1\n",
    "    while flage!=0:\n",
    "        if n%num2==0 and n%num1==0:\n",
    "            flage=0\n",
    "            break\n",
    "        n+=1\n",
    "    if flage==0:\n",
    "        print('LCM= ',n)"
   ]
  },
  {
   "cell_type": "markdown",
   "id": "2b6ad7a0",
   "metadata": {},
   "source": [
    "10. Write a python script to calculate H.C.F of two number."
   ]
  },
  {
   "cell_type": "code",
   "execution_count": 16,
   "id": "022ec91e",
   "metadata": {},
   "outputs": [
    {
     "name": "stdout",
     "output_type": "stream",
     "text": [
      "enter a num 12\n",
      "enter a num 8\n",
      "LCM=  4\n"
     ]
    }
   ],
   "source": [
    "num1 = int(input('enter a num '))\n",
    "num2 = int(input('enter a num '))\n",
    "if num1>num2:\n",
    "    n=num1\n",
    "    flage=1\n",
    "    while n!=0:\n",
    "        if num2%n==0 and num1%n==0:\n",
    "            flage=0\n",
    "            break\n",
    "        n-=1\n",
    "    if flage==0:\n",
    "        print('LCM= ',n)\n",
    "if num2>num1:\n",
    "    n=num2\n",
    "    flage=1\n",
    "    while n!=0:\n",
    "        if num2%n==0 and num1%n==0:\n",
    "            flage=0\n",
    "            break\n",
    "        n-=1\n",
    "    if flage==0:\n",
    "        print('LCM= ',n)"
   ]
  },
  {
   "cell_type": "markdown",
   "id": "20a105be",
   "metadata": {},
   "source": [
    "<h1><center>Python Assignment 5</center></h1>\n",
    "<h2><center>Topics: For loop / range function</center></h2>\n",
    "1. Write a python script to print a table of 5."
   ]
  },
  {
   "cell_type": "code",
   "execution_count": 17,
   "id": "23738b45",
   "metadata": {},
   "outputs": [
    {
     "name": "stdout",
     "output_type": "stream",
     "text": [
      "5\n",
      "10\n",
      "15\n",
      "20\n",
      "25\n",
      "30\n",
      "35\n",
      "40\n",
      "45\n",
      "50\n"
     ]
    }
   ],
   "source": [
    "for i in range(1,11):\n",
    "    print(i*5)"
   ]
  },
  {
   "cell_type": "markdown",
   "id": "f7fb13df",
   "metadata": {},
   "source": [
    "2. Write a python script to print a table of users choice."
   ]
  },
  {
   "cell_type": "code",
   "execution_count": 19,
   "id": "f77e4925",
   "metadata": {},
   "outputs": [
    {
     "name": "stdout",
     "output_type": "stream",
     "text": [
      "enter a num 4\n",
      "4\n",
      "8\n",
      "12\n",
      "16\n",
      "20\n",
      "24\n",
      "28\n",
      "32\n",
      "36\n",
      "40\n"
     ]
    }
   ],
   "source": [
    "num1 = int(input('enter a num '))\n",
    "for i in range(1,11):\n",
    "    print(i*num1)"
   ]
  },
  {
   "cell_type": "markdown",
   "id": "c126bda0",
   "metadata": {},
   "source": [
    "3. Write a python script to print all Armstrong number."
   ]
  },
  {
   "cell_type": "code",
   "execution_count": 29,
   "id": "5263f680",
   "metadata": {},
   "outputs": [
    {
     "name": "stdout",
     "output_type": "stream",
     "text": [
      "enter a num 9474\n",
      "amstrong:  153\n",
      "amstrong:  370\n",
      "amstrong:  371\n",
      "amstrong:  407\n",
      "amstrong:  1634\n",
      "amstrong:  8208\n",
      "amstrong:  9474\n"
     ]
    }
   ],
   "source": [
    "num1 = int(input('enter a num '))\n",
    "for j in range(100,num1+1):\n",
    "    length=len(str(j))\n",
    "    total=0\n",
    "    i=j\n",
    "    while i!=0:\n",
    "        digit=i%10\n",
    "        total+=(digit**length)\n",
    "        i//=10\n",
    "    if j==total:\n",
    "        print('amstrong: ',total)"
   ]
  },
  {
   "cell_type": "markdown",
   "id": "58e137b9",
   "metadata": {},
   "source": [
    "4. Write a python script to square of number from a to b. values of a and b are given by\n",
    "users."
   ]
  },
  {
   "cell_type": "code",
   "execution_count": 31,
   "id": "d0c9344f",
   "metadata": {},
   "outputs": [
    {
     "name": "stdout",
     "output_type": "stream",
     "text": [
      "enter a num 20\n",
      "enter a num 3\n"
     ]
    }
   ],
   "source": [
    "num1 = int(input('enter a num '))\n",
    "num2 = int(input('enter a num '))\n",
    "for i in range(num1,num2+1):\n",
    "    print(i**2)"
   ]
  },
  {
   "cell_type": "markdown",
   "id": "c8fbd139",
   "metadata": {},
   "source": [
    "5. Write a python script to print a sequence of number with given step size and boundary\n",
    "value. For example boundary value is 10 and 30, step is 2 then your out put should be\n",
    "10,12,1,16,20,22,24,26,28,30"
   ]
  },
  {
   "cell_type": "code",
   "execution_count": 33,
   "id": "82763892",
   "metadata": {},
   "outputs": [
    {
     "name": "stdout",
     "output_type": "stream",
     "text": [
      "enter a num 10\n",
      "enter a num 30\n",
      "enter a steap 2\n",
      "10 12 14 16 18 20 22 24 26 28 30 "
     ]
    }
   ],
   "source": [
    "num1 = int(input('enter a num '))\n",
    "num2 = int(input('enter a num '))\n",
    "step = int(input('enter a steap '))\n",
    "for i in range(num1,num2+1,step):\n",
    "    print(i,end=' ')"
   ]
  },
  {
   "cell_type": "markdown",
   "id": "bf1cf64c",
   "metadata": {},
   "source": [
    "<h1><center>Python Assignment 6</center></h1>\n",
    "<h2><center>Topics: List</center></h2>\n",
    "1) Write a python script to sort a list given by user…..list = [int(x) for x in\n",
    "input().split(‘,’) ]."
   ]
  },
  {
   "cell_type": "code",
   "execution_count": 36,
   "id": "07f5da5b",
   "metadata": {},
   "outputs": [
    {
     "name": "stdout",
     "output_type": "stream",
     "text": [
      "enter a list using comma seprate: 9,8,7,6,5,4,3,2\n",
      "[2, 3, 4, 5, 6, 7, 8, 9]\n"
     ]
    }
   ],
   "source": [
    "num1=input('enter a list using comma seprate: ')\n",
    "lst1=[int(x) for x in num1.split(',')]\n",
    "print(sorted(lst1))"
   ]
  },
  {
   "cell_type": "markdown",
   "id": "366df091",
   "metadata": {},
   "source": [
    "2) Write a python script to find greatest number in the list of integers of the list given by\n",
    "user. ->max(l)"
   ]
  },
  {
   "cell_type": "code",
   "execution_count": 37,
   "id": "8c97b9c3",
   "metadata": {},
   "outputs": [
    {
     "name": "stdout",
     "output_type": "stream",
     "text": [
      "enter a list using comma seprate: 9,8,7,6,5,4,3,2\n",
      "9\n"
     ]
    }
   ],
   "source": [
    "num1=input('enter a list using comma seprate: ')\n",
    "lst1=[int(x) for x in num1.split(',')]\n",
    "print(max(lst1))"
   ]
  },
  {
   "cell_type": "markdown",
   "id": "aa997cf2",
   "metadata": {},
   "source": [
    "3) Write a python script to calculate sum of all the integers of the list given by user."
   ]
  },
  {
   "cell_type": "code",
   "execution_count": 38,
   "id": "bfc26e63",
   "metadata": {},
   "outputs": [
    {
     "name": "stdout",
     "output_type": "stream",
     "text": [
      "enter a list using comma seprate: 1,2,3,4,5,6\n",
      "21\n"
     ]
    }
   ],
   "source": [
    "num1=input('enter a list using comma seprate: ')\n",
    "lst1=[int(x) for x in num1.split(',')]\n",
    "print(sum(lst1))"
   ]
  },
  {
   "cell_type": "markdown",
   "id": "09410bda",
   "metadata": {},
   "source": [
    "4) Write a python script to create a list of first n prime numbers. Value of n is given by user."
   ]
  },
  {
   "cell_type": "code",
   "execution_count": 5,
   "id": "86453802",
   "metadata": {},
   "outputs": [
    {
     "name": "stdout",
     "output_type": "stream",
     "text": [
      "enter a number: 50\n",
      "[2, 3, 5, 7, 11, 13, 17, 19, 23, 29, 31, 37, 41, 43, 47]\n"
     ]
    }
   ],
   "source": [
    "num1=int(input('enter a number: '))\n",
    "lst=[]\n",
    "for i in range(2,num1):\n",
    "    flage=0\n",
    "    for j in range(2,i):\n",
    "        if i%j==0:\n",
    "            flage=1\n",
    "            break\n",
    "    if flage==0:\n",
    "        lst.append(i)\n",
    "print(lst)"
   ]
  },
  {
   "cell_type": "markdown",
   "id": "9490fee0",
   "metadata": {},
   "source": [
    "5) Write a python script to create a list of square of first n natural number use for loop to fill\n",
    "list with elements. Values of n taken from user."
   ]
  },
  {
   "cell_type": "code",
   "execution_count": 10,
   "id": "ee524e2a",
   "metadata": {},
   "outputs": [
    {
     "name": "stdout",
     "output_type": "stream",
     "text": [
      "enter a number: 10\n",
      "[0, 1, 4, 9, 16, 25, 36, 49, 64, 81, 100]\n",
      "[0, 1, 4, 9, 16, 25, 36, 49, 64, 81, 100]\n"
     ]
    }
   ],
   "source": [
    "num1=int(input('enter a number: '))\n",
    "lst=[i**2 for i in range(0,num1+1)]\n",
    "lst1=[]\n",
    "for i in range(0,num1+1):\n",
    "    lst1.append(i**2)\n",
    "print(lst,lst1,sep='\\n')"
   ]
  },
  {
   "cell_type": "markdown",
   "id": "eb3a3ec9",
   "metadata": {},
   "source": [
    "6) Write a python script to print indices of all occurrence of a given element in a given list."
   ]
  },
  {
   "cell_type": "code",
   "execution_count": 11,
   "id": "98ea7ee6",
   "metadata": {},
   "outputs": [
    {
     "name": "stdout",
     "output_type": "stream",
     "text": [
      "enter a number: 9\n",
      "index: 8\n",
      "index: 17\n",
      "index: 18\n"
     ]
    }
   ],
   "source": [
    "lst=[1,2,3,4,5,6,7,8,9,1,2,3,4,5,6,7,8,9,9,1,3,4,5]\n",
    "num1=int(input('enter a number: '))\n",
    "for i in range(len(lst)):\n",
    "    if lst[i]==num1:\n",
    "        print('index:',i)\n",
    "    "
   ]
  },
  {
   "cell_type": "markdown",
   "id": "2375e456",
   "metadata": {},
   "source": [
    "7) Write a python script to print distinct list element along with their frequency occurrence\n",
    "in the list."
   ]
  },
  {
   "cell_type": "code",
   "execution_count": 12,
   "id": "df9303d9",
   "metadata": {},
   "outputs": [
    {
     "name": "stdout",
     "output_type": "stream",
     "text": [
      "1:3\n",
      "2:2\n",
      "3:3\n",
      "4:3\n",
      "5:3\n",
      "6:2\n",
      "7:2\n",
      "8:2\n",
      "9:3\n",
      "1:3\n",
      "2:2\n",
      "3:3\n",
      "4:3\n",
      "5:3\n",
      "6:2\n",
      "7:2\n",
      "8:2\n",
      "9:3\n",
      "9:3\n",
      "1:3\n",
      "3:3\n",
      "4:3\n",
      "5:3\n"
     ]
    }
   ],
   "source": [
    "lst=[1,2,3,4,5,6,7,8,9,1,2,3,4,5,6,7,8,9,9,1,3,4,5]\n",
    "for i in range(len(lst)):\n",
    "    val=0\n",
    "    for j in range(len(lst)):\n",
    "        if lst[i]==lst[j]:\n",
    "            val+=1\n",
    "    print(lst[i],val,sep=':')\n"
   ]
  },
  {
   "cell_type": "markdown",
   "id": "ce8918cb",
   "metadata": {},
   "source": [
    "8) Write a python script to calculate sum of all even number and sum of all odd number of\n",
    "the list. List data given by user."
   ]
  },
  {
   "cell_type": "code",
   "execution_count": 13,
   "id": "6b05fbcf",
   "metadata": {},
   "outputs": [
    {
     "name": "stdout",
     "output_type": "stream",
     "text": [
      "enter a number: 12\n",
      "enter a number: 1\n",
      "enter a number: 2\n",
      "enter a number: 3\n",
      "enter a number: 4\n",
      "enter a number: 5\n",
      "enter a number: 6\n",
      "enter a number: 7\n",
      "enter a number: 8\n",
      "enter a number: 9\n",
      "enter a number: 10\n",
      "enter a number: 11\n",
      "enter a number: 12\n",
      "even sum: 42 \n",
      "odd sum36\n"
     ]
    }
   ],
   "source": [
    "lst=[]\n",
    "num1=int(input('enter a number: '))\n",
    "for i in range(0,num1):\n",
    "    n=int(input('enter a number: '))\n",
    "    lst.append(n)\n",
    "odd,even=0,0\n",
    "for i in lst:\n",
    "    if i%2==0:\n",
    "        even+=i\n",
    "    else: odd+=i\n",
    "print('even sum: '+str(even),'\\nodd sum'+str(odd))"
   ]
  },
  {
   "cell_type": "markdown",
   "id": "5b506faf",
   "metadata": {},
   "source": [
    "<h1><center>Python Assignment 7</center></h1>\n",
    "1. Write a python script calculate length of the string. String is given by user."
   ]
  },
  {
   "cell_type": "code",
   "execution_count": 14,
   "id": "80a35a97",
   "metadata": {},
   "outputs": [
    {
     "name": "stdout",
     "output_type": "stream",
     "text": [
      "enter a stringvikrant\n",
      "length of entered string is  7\n"
     ]
    }
   ],
   "source": [
    "str1=input('enter a string')\n",
    "print('length of entered string is ',len(str1))"
   ]
  },
  {
   "cell_type": "markdown",
   "id": "2499b9f6",
   "metadata": {},
   "source": [
    "2. Write a python script to count vowel in a given string."
   ]
  },
  {
   "cell_type": "code",
   "execution_count": 15,
   "id": "b7fa6885",
   "metadata": {},
   "outputs": [
    {
     "name": "stdout",
     "output_type": "stream",
     "text": [
      "enter a stringvikrant Khadatkar\n",
      "i\n",
      "a\n",
      "a\n",
      "a\n",
      "a\n"
     ]
    }
   ],
   "source": [
    "str1=input('enter a string ')\n",
    "for i in str1:\n",
    "    if i in 'aeiouAEIOU':\n",
    "        print(i)"
   ]
  },
  {
   "cell_type": "markdown",
   "id": "ee97079f",
   "metadata": {},
   "source": [
    "3. Write a python script to reverse a string."
   ]
  },
  {
   "cell_type": "code",
   "execution_count": 16,
   "id": "67d00113",
   "metadata": {},
   "outputs": [
    {
     "name": "stdout",
     "output_type": "stream",
     "text": [
      "enter a string vikrant\n",
      "tnarkiv\n"
     ]
    }
   ],
   "source": [
    "str1=input('enter a string ')\n",
    "print(str1[::-1])"
   ]
  },
  {
   "cell_type": "markdown",
   "id": "9649857d",
   "metadata": {},
   "source": [
    "4. Write a python script to count occurrence of a given character in a given string."
   ]
  },
  {
   "cell_type": "code",
   "execution_count": 18,
   "id": "f5de2349",
   "metadata": {},
   "outputs": [
    {
     "name": "stdout",
     "output_type": "stream",
     "text": [
      "enter a string vikrantkhadatkar\n",
      "enter a character to be serch: z\n",
      "The count of z is  0\n"
     ]
    }
   ],
   "source": [
    "str1=input('enter a string ')\n",
    "char1=input('enter a character to be serch: ')\n",
    "count=0\n",
    "for i in str1:\n",
    "    if char1==i:\n",
    "        count+=1\n",
    "print('The count of '+char1+' is ',count)"
   ]
  },
  {
   "cell_type": "markdown",
   "id": "a0bf58e2",
   "metadata": {},
   "source": [
    "5. Write a python script to count words in a given string."
   ]
  },
  {
   "cell_type": "code",
   "execution_count": 20,
   "id": "14d58d54",
   "metadata": {},
   "outputs": [
    {
     "name": "stdout",
     "output_type": "stream",
     "text": [
      "enter a string  Write a python script to arrange word in a given string in alphabetical order.\n",
      "string contains 14 words\n"
     ]
    }
   ],
   "source": [
    "str1=input('enter a string ')\n",
    "str1=str1.strip() # remove white spaces from starting and ending\n",
    "lst=str1.split()\n",
    "print('string contains '+str(len(lst))+' words')"
   ]
  },
  {
   "cell_type": "markdown",
   "id": "e825eb29",
   "metadata": {},
   "source": [
    "6. Write a python script to arrange word in a given string in alphabetical order."
   ]
  },
  {
   "cell_type": "code",
   "execution_count": 28,
   "id": "0fafed6f",
   "metadata": {},
   "outputs": [
    {
     "name": "stdout",
     "output_type": "stream",
     "text": [
      "enter a string Write a python script to check whether a given string is a palindrome or not\n",
      "a a a check given is not or palindrome python script string to whether write\n"
     ]
    }
   ],
   "source": [
    "str1=input('enter a string ')\n",
    "str1=str1.lower()\n",
    "str1=str1.strip()\n",
    "lst=sorted(str1.split())\n",
    "str1=' '.join(lst)\n",
    "print(str1)"
   ]
  },
  {
   "cell_type": "markdown",
   "id": "0791e406",
   "metadata": {},
   "source": [
    "7. Write a python script to check whether a given string is a palindrome or not."
   ]
  },
  {
   "cell_type": "code",
   "execution_count": 31,
   "id": "909c16c5",
   "metadata": {},
   "outputs": [
    {
     "name": "stdout",
     "output_type": "stream",
     "text": [
      "enter a string maDam\n",
      "palendrom\n"
     ]
    }
   ],
   "source": [
    "str1=input('enter a string ')\n",
    "if str1.lower()==str1[::-1].lower():\n",
    "    print('palendrom')\n",
    "else: print('not palendrom')"
   ]
  },
  {
   "cell_type": "markdown",
   "id": "1443e982",
   "metadata": {},
   "source": [
    "8. Write a python script to remove duplicate character from a given string. / Python script to\n",
    "remove duplicate from a list of string."
   ]
  },
  {
   "cell_type": "code",
   "execution_count": 32,
   "id": "be9e39e7",
   "metadata": {},
   "outputs": [
    {
     "name": "stdout",
     "output_type": "stream",
     "text": [
      "enter a string vikranttavk\n",
      "vikrant\n"
     ]
    }
   ],
   "source": [
    "str1=input('enter a string ')\n",
    "result=''\n",
    "\n",
    "for i in str1:\n",
    "    if i not in result:\n",
    "        result+=i\n",
    "print(result)"
   ]
  },
  {
   "cell_type": "code",
   "execution_count": 33,
   "id": "84c0f44b",
   "metadata": {},
   "outputs": [
    {
     "name": "stdout",
     "output_type": "stream",
     "text": [
      "[1, 2, 3, 4, 5, 6, 7, 8, 9]\n"
     ]
    }
   ],
   "source": [
    "lst=[1,2,3,4,5,6,7,8,9,1,2,3,4,5,6,7,8,9,9,1,3,4,5]\n",
    "lst2=[]\n",
    "for i in lst:\n",
    "    if i not in lst2:\n",
    "        lst2.append(i)\n",
    "print(lst2)"
   ]
  },
  {
   "cell_type": "markdown",
   "id": "1d73235a",
   "metadata": {},
   "source": [
    "9. Write a python script to find out a pattern in a given string."
   ]
  },
  {
   "cell_type": "code",
   "execution_count": 46,
   "id": "21959c07",
   "metadata": {},
   "outputs": [
    {
     "name": "stdout",
     "output_type": "stream",
     "text": [
      "enter a string vikrant\n",
      "enter a patern to be serch: nt\n",
      "pattern found at 5\n"
     ]
    }
   ],
   "source": [
    "string=input('enter a string ')\n",
    "pattern=input('enter a patern to be serch: ')\n",
    "str_len=len(string)\n",
    "patt_len=len(pattern)\n",
    "for i in range(str_len - patt_len + 1):\n",
    "    match=True\n",
    "    for j in range(patt_len):\n",
    "            if string[i + j] != pattern[j]:\n",
    "                match = False\n",
    "                break\n",
    "    if match:\n",
    "        print('pattern found')\n",
    "if not match: \n",
    "    print('pattern not found')"
   ]
  },
  {
   "cell_type": "markdown",
   "id": "c65909a4",
   "metadata": {},
   "source": [
    "10. Write a python script to count occurrence of a given pattern in a given string."
   ]
  },
  {
   "cell_type": "code",
   "execution_count": null,
   "id": "b2acf869",
   "metadata": {},
   "outputs": [],
   "source": [
    "string = input('enter a string ')\n",
    "pattern = input('enter a patern to be serch: ')\n",
    "str_len = len(string)\n",
    "patt_len = len(pattern)\n",
    "key = 0\n",
    "for i in range(str_len - patt_len + 1):\n",
    "    match = True\n",
    "    for j in range(patt_len):\n",
    "            if string[i + j] != pattern[j]:\n",
    "                match = False\n",
    "                key = i+1\n",
    "                break\n",
    "    if match:\n",
    "        print('pattern found at',key)\n",
    "if not match: \n",
    "    print('pattern not found')"
   ]
  },
  {
   "cell_type": "markdown",
   "id": "81ea9118",
   "metadata": {},
   "source": [
    "<h1><center>Python Assignment 8</center></h1>\n",
    "<h2><center>Topic – Tuple</center></h2>\n",
    "1. Write a python script to calculate average of tuple values. Assuming values are of int type\n",
    "only."
   ]
  },
  {
   "cell_type": "code",
   "execution_count": 31,
   "id": "cda2fee8",
   "metadata": {},
   "outputs": [
    {
     "name": "stdout",
     "output_type": "stream",
     "text": [
      "3.5\n"
     ]
    }
   ],
   "source": [
    "tuple1 = (1,2,3,4,5,6)\n",
    "print(sum(tuple1) / len(tuple1))"
   ]
  },
  {
   "cell_type": "markdown",
   "id": "bb401f64",
   "metadata": {},
   "source": [
    "2. Write a python script to sort a tuple."
   ]
  },
  {
   "cell_type": "code",
   "execution_count": 30,
   "id": "22d23b46",
   "metadata": {},
   "outputs": [
    {
     "data": {
      "text/plain": [
       "(3, 4, 6, 7, 7, 8, 9)"
      ]
     },
     "execution_count": 30,
     "metadata": {},
     "output_type": "execute_result"
    }
   ],
   "source": [
    "tuple1 = (7,6,8,7,9,4,3)\n",
    "tuple(sorted(tuple1))"
   ]
  },
  {
   "cell_type": "markdown",
   "id": "90bc77d5",
   "metadata": {},
   "source": [
    "3. Write a python script to merge two sorted tuple."
   ]
  },
  {
   "cell_type": "code",
   "execution_count": 29,
   "id": "6bd766fa",
   "metadata": {},
   "outputs": [
    {
     "data": {
      "text/plain": [
       "(3, 4, 6, 7, 31, 41, 61, 71, 72, 72, 81, 82, 91, 92)"
      ]
     },
     "execution_count": 29,
     "metadata": {},
     "output_type": "execute_result"
    }
   ],
   "source": [
    "tuple1 = (72,6,82,7,92,4,3)\n",
    "tuple2 = (71,61,81,72,91,41,31)\n",
    "tuple(sorted(tuple1 + tuple2))"
   ]
  },
  {
   "cell_type": "markdown",
   "id": "b3818ac8",
   "metadata": {},
   "source": [
    "4. Write a python script to reverse a tuple."
   ]
  },
  {
   "cell_type": "code",
   "execution_count": 54,
   "id": "af46ee4f",
   "metadata": {},
   "outputs": [
    {
     "data": {
      "text/plain": [
       "(3, 4, 9, 7, 8, 6, 7)"
      ]
     },
     "execution_count": 54,
     "metadata": {},
     "output_type": "execute_result"
    }
   ],
   "source": [
    "tup = (7,6,8,7,9,4,3)\n",
    "tuple(list(tup)[::-1])"
   ]
  },
  {
   "cell_type": "markdown",
   "id": "5d13f39b",
   "metadata": {},
   "source": [
    "5. Write a python script to count element in the tuple."
   ]
  },
  {
   "cell_type": "code",
   "execution_count": 55,
   "id": "f7c2f609",
   "metadata": {},
   "outputs": [
    {
     "data": {
      "text/plain": [
       "7"
      ]
     },
     "execution_count": 55,
     "metadata": {},
     "output_type": "execute_result"
    }
   ],
   "source": [
    "tup = (7,6,8,7,9,4,3)\n",
    "len(tup)"
   ]
  },
  {
   "cell_type": "markdown",
   "id": "542206c1",
   "metadata": {},
   "source": [
    "6. Write a python script to calculate sum of the elements of the tuple. Tuple input is taken\n",
    "from keyboard (all values are of int type)."
   ]
  },
  {
   "cell_type": "code",
   "execution_count": 58,
   "id": "e2210120",
   "metadata": {},
   "outputs": [
    {
     "name": "stdout",
     "output_type": "stream",
     "text": [
      "Enter elements of the tuple (space-separated): 1 2 3 4 5\n"
     ]
    },
    {
     "data": {
      "text/plain": [
       "15"
      ]
     },
     "execution_count": 58,
     "metadata": {},
     "output_type": "execute_result"
    }
   ],
   "source": [
    "input_tuple = tuple(map(int, input(\"Enter elements of the tuple (space-separated): \").split()))\n",
    "sum(input_tuple)"
   ]
  },
  {
   "cell_type": "markdown",
   "id": "0e0fe2ce",
   "metadata": {},
   "source": [
    "7. Write a python script to create tuple with homogeneous element from a tuple containing\n",
    "heterogeneous element."
   ]
  },
  {
   "cell_type": "code",
   "execution_count": 65,
   "id": "9fe947dc",
   "metadata": {},
   "outputs": [
    {
     "name": "stdout",
     "output_type": "stream",
     "text": [
      "('apple', 'banana', 'orange')\n"
     ]
    }
   ],
   "source": [
    "tup = (\"apple\", 3, True, 2.5, \"banana\", False, 1, \"orange\")\n",
    "print(tuple(i for i in tup if isinstance(i, str)))"
   ]
  },
  {
   "cell_type": "markdown",
   "id": "e79830dd",
   "metadata": {},
   "source": [
    "8. Write a python script to compare two tuple, whether they contain same elements in any\n",
    "order or not."
   ]
  },
  {
   "cell_type": "code",
   "execution_count": 2,
   "id": "7ed32b76",
   "metadata": {},
   "outputs": [
    {
     "data": {
      "text/plain": [
       "True"
      ]
     },
     "execution_count": 2,
     "metadata": {},
     "output_type": "execute_result"
    }
   ],
   "source": [
    "t1 = (1,3,2,5,6,4)\n",
    "t2 = (1,2,3,4,5,6)\n",
    "set(t1) == set(t2)"
   ]
  },
  {
   "cell_type": "markdown",
   "id": "1844d0ba",
   "metadata": {},
   "source": [
    "9. Write a python script to compare two tuple, whether they contain the same element in\n",
    "same order or not."
   ]
  },
  {
   "cell_type": "code",
   "execution_count": 5,
   "id": "f7037644",
   "metadata": {},
   "outputs": [
    {
     "name": "stdout",
     "output_type": "stream",
     "text": [
      "Tuple is in same order and contain same element.\n"
     ]
    }
   ],
   "source": [
    "tuple1 = (1,3,2,5,6,4)\n",
    "tuple2 = (1,3,2,5,6,4)\n",
    "flage = 0\n",
    "if len(tuple1) == len(tuple2):\n",
    "    for i in range(len(t1)):\n",
    "        if tuple1[i] != tuple2[i]:\n",
    "            flage = 1\n",
    "if flage == 1:\n",
    "    print('Tuple is not same.')\n",
    "else:\n",
    "    print('Tuple is in same order and contain same element.')"
   ]
  },
  {
   "cell_type": "markdown",
   "id": "20f7548d",
   "metadata": {},
   "source": [
    "10. Write a python script to find greatest number from a tuple of int value."
   ]
  },
  {
   "cell_type": "code",
   "execution_count": 16,
   "id": "28c9c3b7",
   "metadata": {},
   "outputs": [
    {
     "name": "stdout",
     "output_type": "stream",
     "text": [
      "the gretest number in tuple is: 6\n",
      "2\n",
      "The gretest number in tuple is: 6\n"
     ]
    }
   ],
   "source": [
    "tuple1 = (1,3,2,5,6,4)\n",
    "print('The gretest number in tuple is:' , max(tuple1))\n",
    "temp=0\n",
    "for i in range(len(tuple1)):\n",
    "    if temp < tuple1[i]:\n",
    "        temp = tuple1[i]\n",
    "print('The gretest number in tuple is:' , temp)  "
   ]
  },
  {
   "cell_type": "markdown",
   "id": "2eae7b8b",
   "metadata": {},
   "source": [
    "11. Write a python script to check whether a tuple is a subset of another tuple or not."
   ]
  },
  {
   "cell_type": "code",
   "execution_count": 28,
   "id": "6524a9ca",
   "metadata": {},
   "outputs": [
    {
     "name": "stdout",
     "output_type": "stream",
     "text": [
      "True\n",
      "False\n",
      "Tuple is not a subset of another subset\n"
     ]
    }
   ],
   "source": [
    "tuple1 = (1,3,2,5)\n",
    "tuple2 = (7,8,4)\n",
    "tuple3 = (1,2,3,4,5,6)\n",
    "\n",
    "print(set(tuple1).issubset(set(tuple3)))\n",
    "print(set(tuple2).issubset(set(tuple3)))\n",
    "\n",
    "flage = 0\n",
    "for element in tuple2:\n",
    "    if element not in tuple3:\n",
    "        flage = 1\n",
    "if flage == 1:\n",
    "    print('Tuple is not a subset of another subset')\n",
    "else:\n",
    "    print('Tuple is a subset of another subset')"
   ]
  },
  {
   "cell_type": "markdown",
   "id": "8ea60d6a",
   "metadata": {},
   "source": [
    "12. Write a python script to count the frequency of element of a tuple. "
   ]
  },
  {
   "cell_type": "code",
   "execution_count": 25,
   "id": "c4815939",
   "metadata": {},
   "outputs": [
    {
     "data": {
      "text/plain": [
       "{1: 4, 2: 3, 3: 2, 4: 4}"
      ]
     },
     "execution_count": 25,
     "metadata": {},
     "output_type": "execute_result"
    }
   ],
   "source": [
    "tuple1 = (1,1,1,1, 2,2, 2, 3, 3, 4, 4, 4, 4)\n",
    "frequency = {}\n",
    "for i in tuple1:\n",
    "    frequency[i] = frequency.get(i,0) + 1\n",
    "frequency"
   ]
  },
  {
   "cell_type": "code",
   "execution_count": 27,
   "id": "ec1d9f69",
   "metadata": {},
   "outputs": [
    {
     "data": {
      "text/plain": [
       "{1: 4, 2: 3, 3: 2, 4: 4}"
      ]
     },
     "execution_count": 27,
     "metadata": {},
     "output_type": "execute_result"
    }
   ],
   "source": [
    "frequency = {}\n",
    "for i in tuple1:\n",
    "    if i in frequency.keys():\n",
    "        frequency[i]+= 1\n",
    "    else:\n",
    "        frequency[i] = 1\n",
    "frequency"
   ]
  },
  {
   "cell_type": "markdown",
   "id": "b22182bd",
   "metadata": {},
   "source": [
    "<h1><center>END</center></h1>"
   ]
  }
 ],
 "metadata": {
  "kernelspec": {
   "display_name": "Python 3 (ipykernel)",
   "language": "python",
   "name": "python3"
  },
  "language_info": {
   "codemirror_mode": {
    "name": "ipython",
    "version": 3
   },
   "file_extension": ".py",
   "mimetype": "text/x-python",
   "name": "python",
   "nbconvert_exporter": "python",
   "pygments_lexer": "ipython3",
   "version": "3.9.12"
  }
 },
 "nbformat": 4,
 "nbformat_minor": 5
}

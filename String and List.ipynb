{
 "cells": [
  {
   "cell_type": "markdown",
   "id": "4ccf42db",
   "metadata": {},
   "source": [
    "<h1><center>Advance Python</center></h1>\n",
    "<h2><center>String</center></h2>"
   ]
  },
  {
   "cell_type": "markdown",
   "id": "877697cf",
   "metadata": {},
   "source": [
    "built-in functions for strings in Python:\n",
    "\n",
    "len(string): Returns the length of the string.\n",
    "\n",
    "string.upper(): Returns a new string with all characters in uppercase.\n",
    "\n",
    "string.lower(): Returns a new string with all characters in lowercase.\n",
    "\n",
    "string.capitalize(): Returns a new string with the first character capitalized and the rest in lowercase.\n",
    "\n",
    "string.title(): Returns a new string with the first character of each word capitalized.\n",
    "\n",
    "string.isalpha(): Returns True if all characters in the string are alphabetic.\n",
    "\n",
    "string.isdigit(): Returns True if all characters in the string are digits.\n",
    "\n",
    "string.isalnum(): Returns True if all characters in the string are alphanumeric.\n",
    "\n",
    "string.islower(): Returns True if all characters in the string are lowercase.\n",
    "\n",
    "string.isupper(): Returns True if all characters in the string are uppercase.\n",
    "\n",
    "string.startswith(substring): Returns True if the string starts with the specified substring.\n",
    "\n",
    "string.endswith(substring): Returns True if the string ends with the specified substring.\n",
    "\n",
    "string.strip(): Returns a new string with leading and trailing whitespace removed.\n",
    "\n",
    "string.split(): Returns a list of substrings by splitting the string at each occurrence of whitespace.\n",
    "\n",
    "string.replace(old, new): Returns a new string with all occurrences of old replaced by new.\n",
    "\n",
    "string.find(substring): Returns the lowest index of the first occurrence of substring in the string.\n",
    "\n",
    "string.count(substring): Returns the number of non-overlapping occurrences of substring in the string.\n",
    "\n",
    "string.join(iterable): Concatenates elements of the iterable with the string as a separator."
   ]
  },
  {
   "cell_type": "markdown",
   "id": "61b98bbf",
   "metadata": {},
   "source": [
    " 1. Write a program that prompts the user to enter a string and prints its length."
   ]
  },
  {
   "cell_type": "code",
   "execution_count": 1,
   "id": "2b953841",
   "metadata": {},
   "outputs": [
    {
     "name": "stdout",
     "output_type": "stream",
     "text": [
      "Enter a string: Hello world\n",
      "Length of the string: 11\n"
     ]
    }
   ],
   "source": [
    "string = input(\"Enter a string: \")\n",
    "length = len(string)\n",
    "print(\"Length of the string:\", length)"
   ]
  },
  {
   "cell_type": "markdown",
   "id": "15c7975c",
   "metadata": {},
   "source": [
    "2. Write a program that converts a given string to uppercase."
   ]
  },
  {
   "cell_type": "code",
   "execution_count": 2,
   "id": "1dc61f2e",
   "metadata": {},
   "outputs": [
    {
     "name": "stdout",
     "output_type": "stream",
     "text": [
      "HELLO WORLD\n"
     ]
    }
   ],
   "source": [
    "string = \"hello world\"\n",
    "uppercase_string = string.upper()\n",
    "print(uppercase_string)\n"
   ]
  },
  {
   "cell_type": "markdown",
   "id": "34cd0a9e",
   "metadata": {},
   "source": [
    "3. Write a program that converts a given string to lowercase."
   ]
  },
  {
   "cell_type": "code",
   "execution_count": 18,
   "id": "55a929fb",
   "metadata": {},
   "outputs": [
    {
     "name": "stdout",
     "output_type": "stream",
     "text": [
      "hello world\n"
     ]
    }
   ],
   "source": [
    "string = \"Hello World\"\n",
    "lowercase_string = string.lower()\n",
    "print(lowercase_string)"
   ]
  },
  {
   "cell_type": "markdown",
   "id": "aabe0454",
   "metadata": {},
   "source": [
    "4. Write a program that capitalizes the first character of a given string."
   ]
  },
  {
   "cell_type": "code",
   "execution_count": 17,
   "id": "4fb0383b",
   "metadata": {},
   "outputs": [
    {
     "name": "stdout",
     "output_type": "stream",
     "text": [
      "Hello world\n"
     ]
    }
   ],
   "source": [
    "string = \"hello world\"\n",
    "capitalized_string = string.capitalize()\n",
    "print(capitalized_string)"
   ]
  },
  {
   "cell_type": "markdown",
   "id": "23eb9583",
   "metadata": {},
   "source": [
    "5. Write a program that converts a given string to title case."
   ]
  },
  {
   "cell_type": "code",
   "execution_count": 16,
   "id": "9905eb71",
   "metadata": {},
   "outputs": [
    {
     "name": "stdout",
     "output_type": "stream",
     "text": [
      "Hello World\n"
     ]
    }
   ],
   "source": [
    "string = \"hello world\"\n",
    "title_string = string.title()\n",
    "print(title_string)"
   ]
  },
  {
   "cell_type": "markdown",
   "id": "6dec7eec",
   "metadata": {},
   "source": [
    "6. Write a program that checks if a given string contains only alphabetic characters."
   ]
  },
  {
   "cell_type": "code",
   "execution_count": 15,
   "id": "f9bed563",
   "metadata": {},
   "outputs": [
    {
     "name": "stdout",
     "output_type": "stream",
     "text": [
      "True\n"
     ]
    }
   ],
   "source": [
    "string = \"Hello\"\n",
    "is_alpha = string.isalpha()\n",
    "print(is_alpha)"
   ]
  },
  {
   "cell_type": "markdown",
   "id": "a770076e",
   "metadata": {},
   "source": [
    "7. Write a program that checks if a given string contains only digits."
   ]
  },
  {
   "cell_type": "code",
   "execution_count": 14,
   "id": "9a099bcc",
   "metadata": {},
   "outputs": [
    {
     "name": "stdout",
     "output_type": "stream",
     "text": [
      "True\n"
     ]
    }
   ],
   "source": [
    "string = \"12345\"\n",
    "is_digit = string.isdigit()\n",
    "print(is_digit)"
   ]
  },
  {
   "cell_type": "markdown",
   "id": "dcebb7f6",
   "metadata": {},
   "source": [
    "8. Write a program that checks if a given string contains only alphanumeric charectors."
   ]
  },
  {
   "cell_type": "code",
   "execution_count": 13,
   "id": "46cafd38",
   "metadata": {},
   "outputs": [
    {
     "name": "stdout",
     "output_type": "stream",
     "text": [
      "True\n"
     ]
    }
   ],
   "source": [
    "string = \"Hello123\"\n",
    "is_alnum = string.isalnum()\n",
    "print(is_alnum)"
   ]
  },
  {
   "cell_type": "markdown",
   "id": "44191b51",
   "metadata": {},
   "source": [
    "9. Write a program that checks if a given string is in all lowercase."
   ]
  },
  {
   "cell_type": "code",
   "execution_count": 12,
   "id": "319b3942",
   "metadata": {},
   "outputs": [
    {
     "name": "stdout",
     "output_type": "stream",
     "text": [
      "True\n"
     ]
    }
   ],
   "source": [
    "string = \"hello\"\n",
    "is_lower = string.islower()\n",
    "print(is_lower)"
   ]
  },
  {
   "cell_type": "markdown",
   "id": "0b463956",
   "metadata": {},
   "source": [
    "10. Write a program that checks if a given string is in all uppercase."
   ]
  },
  {
   "cell_type": "code",
   "execution_count": 11,
   "id": "ba423f50",
   "metadata": {},
   "outputs": [
    {
     "name": "stdout",
     "output_type": "stream",
     "text": [
      "True\n"
     ]
    }
   ],
   "source": [
    "string = \"HELLO\"\n",
    "is_upper = string.isupper()\n",
    "print(is_upper)"
   ]
  },
  {
   "cell_type": "markdown",
   "id": "ceff809f",
   "metadata": {},
   "source": [
    "11. Write a program that checks if a given string starts with a particular substring."
   ]
  },
  {
   "cell_type": "code",
   "execution_count": 10,
   "id": "3b08ec79",
   "metadata": {},
   "outputs": [
    {
     "name": "stdout",
     "output_type": "stream",
     "text": [
      "True\n"
     ]
    }
   ],
   "source": [
    "string = \"Hello World\"\n",
    "starts_with_hello = string.startswith(\"Hello\")\n",
    "print(starts_with_hello)"
   ]
  },
  {
   "cell_type": "markdown",
   "id": "d6049eeb",
   "metadata": {},
   "source": [
    "12. Write a program that checks if a given string ends with a particular substring."
   ]
  },
  {
   "cell_type": "code",
   "execution_count": 9,
   "id": "1b18af19",
   "metadata": {},
   "outputs": [
    {
     "name": "stdout",
     "output_type": "stream",
     "text": [
      "True\n"
     ]
    }
   ],
   "source": [
    "string = \"Hello World\"\n",
    "ends_with_world = string.endswith(\"World\")\n",
    "print(ends_with_world)"
   ]
  },
  {
   "cell_type": "markdown",
   "id": "8be74e56",
   "metadata": {},
   "source": [
    "13. Write a program that removes leading and trailing whitespace from a given string."
   ]
  },
  {
   "cell_type": "code",
   "execution_count": 8,
   "id": "a2e5a11e",
   "metadata": {},
   "outputs": [
    {
     "name": "stdout",
     "output_type": "stream",
     "text": [
      "Hello World\n"
     ]
    }
   ],
   "source": [
    "string = \"   Hello World   \"\n",
    "stripped_string = string.strip()\n",
    "print(stripped_string)"
   ]
  },
  {
   "cell_type": "markdown",
   "id": "a06ebb24",
   "metadata": {},
   "source": [
    "14. Write a program that splits a given string into words."
   ]
  },
  {
   "cell_type": "code",
   "execution_count": 7,
   "id": "53d5a9da",
   "metadata": {},
   "outputs": [
    {
     "name": "stdout",
     "output_type": "stream",
     "text": [
      "['Hello', 'World']\n"
     ]
    }
   ],
   "source": [
    "string = \"Hello World\"\n",
    "words = string.split()\n",
    "print(words)"
   ]
  },
  {
   "cell_type": "markdown",
   "id": "dae8d09d",
   "metadata": {},
   "source": [
    "15. Write a program that replaces a given substring with another substring in a string."
   ]
  },
  {
   "cell_type": "code",
   "execution_count": 6,
   "id": "7289dde8",
   "metadata": {},
   "outputs": [
    {
     "name": "stdout",
     "output_type": "stream",
     "text": [
      "Hello, Python!\n"
     ]
    }
   ],
   "source": [
    "string = \"Hello, World!\"\n",
    "replaced_string = string.replace(\"World\", \"Python\")\n",
    "print(replaced_string)"
   ]
  },
  {
   "cell_type": "markdown",
   "id": "5456c330",
   "metadata": {},
   "source": [
    "16. Write a program that finds the index of the first occurrence of a substring in a given string."
   ]
  },
  {
   "cell_type": "code",
   "execution_count": 5,
   "id": "ce2aa8da",
   "metadata": {},
   "outputs": [
    {
     "name": "stdout",
     "output_type": "stream",
     "text": [
      "7\n"
     ]
    }
   ],
   "source": [
    "string = \"Hello, World!\"\n",
    "index = string.find(\"World\")\n",
    "print(index)"
   ]
  },
  {
   "cell_type": "markdown",
   "id": "cd116afb",
   "metadata": {},
   "source": [
    "17. Write a program that counts the number of occurrences of a substring in a given string."
   ]
  },
  {
   "cell_type": "code",
   "execution_count": 4,
   "id": "ee944979",
   "metadata": {},
   "outputs": [
    {
     "name": "stdout",
     "output_type": "stream",
     "text": [
      "3\n"
     ]
    }
   ],
   "source": [
    "string = \"Hello, World!\"\n",
    "count = string.count(\"l\")\n",
    "print(count)"
   ]
  },
  {
   "cell_type": "markdown",
   "id": "c02bbee9",
   "metadata": {},
   "source": [
    "18. Write a program that joins a list of words into a single string using a hyphen as a separator."
   ]
  },
  {
   "cell_type": "code",
   "execution_count": 3,
   "id": "43d9ffcd",
   "metadata": {},
   "outputs": [
    {
     "name": "stdout",
     "output_type": "stream",
     "text": [
      "Hello-World\n"
     ]
    }
   ],
   "source": [
    "words = [\"Hello\", \"World\"]\n",
    "joined_string = \"-\".join(words)\n",
    "print(joined_string)"
   ]
  },
  {
   "cell_type": "markdown",
   "id": "125c974f",
   "metadata": {},
   "source": [
    "<h2><center>String Operation</center></h2>"
   ]
  },
  {
   "cell_type": "markdown",
   "id": "426b04d6",
   "metadata": {},
   "source": [
    "Concatenation (+): Combines two or more strings together."
   ]
  },
  {
   "cell_type": "code",
   "execution_count": 19,
   "id": "71d80544",
   "metadata": {},
   "outputs": [
    {
     "name": "stdout",
     "output_type": "stream",
     "text": [
      "Hello World\n"
     ]
    }
   ],
   "source": [
    "string1 = \"Hello\"\n",
    "string2 = \"World\"\n",
    "result = string1 + \" \" + string2\n",
    "print(result)  # Output: Hello World"
   ]
  },
  {
   "cell_type": "markdown",
   "id": "27d4c679",
   "metadata": {},
   "source": [
    "Repetition (*): Repeats a string a specified number of times."
   ]
  },
  {
   "cell_type": "code",
   "execution_count": 20,
   "id": "b37a1b0b",
   "metadata": {},
   "outputs": [
    {
     "name": "stdout",
     "output_type": "stream",
     "text": [
      "Hello Hello Hello \n"
     ]
    }
   ],
   "source": [
    "string = \"Hello \"\n",
    "result = string * 3\n",
    "print(result)  # Output: Hello Hello Hello"
   ]
  },
  {
   "cell_type": "markdown",
   "id": "abd3582b",
   "metadata": {},
   "source": [
    "Indexing ([]): Accesses an individual character in a string using its index."
   ]
  },
  {
   "cell_type": "code",
   "execution_count": 21,
   "id": "74c34eeb",
   "metadata": {},
   "outputs": [
    {
     "name": "stdout",
     "output_type": "stream",
     "text": [
      "H\n",
      "o\n"
     ]
    }
   ],
   "source": [
    "string = \"Hello\"\n",
    "print(string[0])  # Output: H\n",
    "print(string[4])  # Output: o"
   ]
  },
  {
   "cell_type": "markdown",
   "id": "254e7c94",
   "metadata": {},
   "source": [
    "Slicing ([:]): Extracts a substring from a string based on a specified range of indices."
   ]
  },
  {
   "cell_type": "code",
   "execution_count": 22,
   "id": "0720cb29",
   "metadata": {},
   "outputs": [
    {
     "name": "stdout",
     "output_type": "stream",
     "text": [
      "Hello\n",
      "World\n",
      "Hello\n",
      "World\n"
     ]
    }
   ],
   "source": [
    "string = \"Hello World\"\n",
    "print(string[0:5])   # Output: Hello\n",
    "print(string[6:])    # Output: World\n",
    "print(string[:5])    # Output: Hello\n",
    "print(string[-5:])   # Output: World"
   ]
  },
  {
   "cell_type": "markdown",
   "id": "247c82f8",
   "metadata": {},
   "source": [
    "Length (len()): Returns the number of characters in a string.\n"
   ]
  },
  {
   "cell_type": "code",
   "execution_count": 23,
   "id": "aad7431c",
   "metadata": {},
   "outputs": [
    {
     "name": "stdout",
     "output_type": "stream",
     "text": [
      "11\n"
     ]
    }
   ],
   "source": [
    "string = \"Hello World\"\n",
    "length = len(string)\n",
    "print(length)  # Output: 11"
   ]
  },
  {
   "cell_type": "markdown",
   "id": "148e1328",
   "metadata": {},
   "source": [
    "Membership (in): Checks if a substring exists within a string."
   ]
  },
  {
   "cell_type": "code",
   "execution_count": 24,
   "id": "a005730c",
   "metadata": {},
   "outputs": [
    {
     "name": "stdout",
     "output_type": "stream",
     "text": [
      "True\n",
      "False\n"
     ]
    }
   ],
   "source": [
    "string = \"Hello World\"\n",
    "print(\"Hello\" in string)  # Output: True\n",
    "print(\"Python\" in string)  # Output: False"
   ]
  },
  {
   "cell_type": "markdown",
   "id": "8e826334",
   "metadata": {},
   "source": [
    "String formatting (% or format()): Replaces placeholders in a string with specified values."
   ]
  },
  {
   "cell_type": "code",
   "execution_count": 25,
   "id": "32c4a2be",
   "metadata": {},
   "outputs": [
    {
     "name": "stdout",
     "output_type": "stream",
     "text": [
      "My name is Alice and I am 25 years old.\n",
      "My name is Bob and I am 30 years old.\n"
     ]
    }
   ],
   "source": [
    "name = \"Alice\"\n",
    "age = 25\n",
    "result = \"My name is %s and I am %d years old.\" % (name, age)\n",
    "print(result)  # Output: My name is Alice and I am 25 years old.\n",
    "\n",
    "name = \"Bob\"\n",
    "age = 30\n",
    "result = \"My name is {} and I am {} years old.\".format(name, age)\n",
    "print(result)  # Output: My name is Bob and I am 30 years old."
   ]
  },
  {
   "cell_type": "markdown",
   "id": "9c4784f8",
   "metadata": {},
   "source": [
    "Case conversion (upper(), lower(), capitalize()): Changes the case of characters in a string.\n",
    "\n"
   ]
  },
  {
   "cell_type": "code",
   "execution_count": 26,
   "id": "e5db1d36",
   "metadata": {},
   "outputs": [
    {
     "name": "stdout",
     "output_type": "stream",
     "text": [
      "HELLO WORLD\n",
      "hello world\n",
      "Hello world\n"
     ]
    }
   ],
   "source": [
    "string = \"Hello World\"\n",
    "print(string.upper())       # Output: HELLO WORLD\n",
    "print(string.lower())       # Output: hello world\n",
    "print(string.capitalize())  # Output: Hello world"
   ]
  },
  {
   "cell_type": "markdown",
   "id": "714956ea",
   "metadata": {},
   "source": [
    "Stripping (strip(), lstrip(), rstrip()): Removes leading and trailing whitespace characters from a string.\n"
   ]
  },
  {
   "cell_type": "code",
   "execution_count": 27,
   "id": "3b21cf66",
   "metadata": {},
   "outputs": [
    {
     "name": "stdout",
     "output_type": "stream",
     "text": [
      "Hello World\n",
      "Hello World   \n",
      "   Hello World\n"
     ]
    }
   ],
   "source": [
    "string = \"   Hello World   \"\n",
    "print(string.strip())    # Output: Hello World\n",
    "print(string.lstrip())   # Output: Hello World   \n",
    "print(string.rstrip())   # Output:    Hello World"
   ]
  },
  {
   "cell_type": "markdown",
   "id": "b7dd7ad9",
   "metadata": {},
   "source": [
    "Splitting and joining (split(), join()): Splits a string into a list of substrings based on a separator, and joins a list of strings into a single string using a specified separator.\n"
   ]
  },
  {
   "cell_type": "code",
   "execution_count": 28,
   "id": "f71e47f0",
   "metadata": {},
   "outputs": [
    {
     "name": "stdout",
     "output_type": "stream",
     "text": [
      "['Hello', 'World']\n",
      "Hello-World\n"
     ]
    }
   ],
   "source": [
    "string = \"Hello,World\"\n",
    "splitted = string.split(\",\") \n",
    "print(splitted)   # Output: ['Hello', 'World']\n",
    "\n",
    "words = ['Hello', 'World']\n",
    "joined = \"-\".join(words)\n",
    "print(joined)     # Output: Hello-World"
   ]
  },
  {
   "cell_type": "markdown",
   "id": "68009e8c",
   "metadata": {},
   "source": [
    "<h2><center>String Slicing</center></h2>"
   ]
  },
  {
   "cell_type": "markdown",
   "id": "753a2987",
   "metadata": {},
   "source": [
    "Basic Slicing: Extracts a substring from a string based on a specified range of indices.\n"
   ]
  },
  {
   "cell_type": "code",
   "execution_count": 36,
   "id": "d11e8556",
   "metadata": {},
   "outputs": [
    {
     "name": "stdout",
     "output_type": "stream",
     "text": [
      "Hello\n",
      "World\n",
      "Hello\n",
      "World\n"
     ]
    }
   ],
   "source": [
    "string = \"Hello World\"\n",
    "print(string[0:5])   # Output: Hello\n",
    "print(string[6:])    # Output: World\n",
    "print(string[:5])    # Output: Hello\n",
    "print(string[-5:])   # Output: World"
   ]
  },
  {
   "cell_type": "markdown",
   "id": "afcfb709",
   "metadata": {},
   "source": [
    "Extended Slicing with a Step Value: Extracts a substring with a specified step value, allowing you to skip characters.\n"
   ]
  },
  {
   "cell_type": "code",
   "execution_count": 35,
   "id": "d221993a",
   "metadata": {},
   "outputs": [
    {
     "name": "stdout",
     "output_type": "stream",
     "text": [
      "HloWrd\n",
      "dlroW \n"
     ]
    }
   ],
   "source": [
    "string = \"Hello World\"\n",
    "print(string[0:11:2])   # Output: HloWrd\n",
    "print(string[10:4:-1])  # Output: dlroW"
   ]
  },
  {
   "cell_type": "markdown",
   "id": "af1dde15",
   "metadata": {},
   "source": [
    "Reverse a String: Reverses the order of characters in a string using slicing.\n"
   ]
  },
  {
   "cell_type": "code",
   "execution_count": 34,
   "id": "2ce21181",
   "metadata": {},
   "outputs": [
    {
     "name": "stdout",
     "output_type": "stream",
     "text": [
      "dlroW olleH\n"
     ]
    }
   ],
   "source": [
    "string = \"Hello World\"\n",
    "print(string[::-1])  # Output: dlroW olleH"
   ]
  },
  {
   "cell_type": "markdown",
   "id": "c1830381",
   "metadata": {},
   "source": [
    "Slice with a Default Step Value of 1: Extracts a substring with a default step value of 1.\n"
   ]
  },
  {
   "cell_type": "code",
   "execution_count": 33,
   "id": "209107fd",
   "metadata": {},
   "outputs": [
    {
     "name": "stdout",
     "output_type": "stream",
     "text": [
      "HloWrd\n"
     ]
    }
   ],
   "source": [
    "string = \"Hello World\"\n",
    "print(string[::2])  # Output: HloWrd"
   ]
  },
  {
   "cell_type": "markdown",
   "id": "05bc99db",
   "metadata": {},
   "source": [
    "Slice with Negative Indices: Uses negative indices to slice a string from the end.\n"
   ]
  },
  {
   "cell_type": "code",
   "execution_count": 32,
   "id": "a540c82f",
   "metadata": {},
   "outputs": [
    {
     "name": "stdout",
     "output_type": "stream",
     "text": [
      "Worl\n"
     ]
    }
   ],
   "source": [
    "string = \"Hello World\"\n",
    "print(string[-5:-1])  # Output: Worl"
   ]
  },
  {
   "cell_type": "markdown",
   "id": "44059b9a",
   "metadata": {},
   "source": [
    "Slice with Skipping Last N Characters: Skips the last N characters of a string using negative indices."
   ]
  },
  {
   "cell_type": "code",
   "execution_count": 31,
   "id": "9ddfef3d",
   "metadata": {},
   "outputs": [
    {
     "name": "stdout",
     "output_type": "stream",
     "text": [
      "Hello Wo\n"
     ]
    }
   ],
   "source": [
    "string = \"Hello World\"\n",
    "print(string[:-3])  # Output: Hello Wo"
   ]
  },
  {
   "cell_type": "markdown",
   "id": "06801316",
   "metadata": {},
   "source": [
    "Slice with Skipping First N Characters: Skips the first N characters of a string using positive indices.\n"
   ]
  },
  {
   "cell_type": "code",
   "execution_count": 30,
   "id": "8ee68900",
   "metadata": {},
   "outputs": [
    {
     "name": "stdout",
     "output_type": "stream",
     "text": [
      "lo World\n"
     ]
    }
   ],
   "source": [
    "string = \"Hello World\"\n",
    "print(string[3:])  # Output: lo World"
   ]
  },
  {
   "cell_type": "markdown",
   "id": "4c8315b7",
   "metadata": {},
   "source": [
    "Slicing with a Step Value Greater than 1: Extracts substrings by skipping characters using a step value greater than 1.\n"
   ]
  },
  {
   "cell_type": "code",
   "execution_count": 29,
   "id": "48bd06fa",
   "metadata": {},
   "outputs": [
    {
     "name": "stdout",
     "output_type": "stream",
     "text": [
      "eoo\n"
     ]
    }
   ],
   "source": [
    "string = \"Hello World\"\n",
    "print(string[1:10:3])  # Output: eoo"
   ]
  },
  {
   "cell_type": "markdown",
   "id": "4dd4e748",
   "metadata": {},
   "source": [
    "<h2><center>List</center></h2>"
   ]
  },
  {
   "cell_type": "markdown",
   "id": "6a9a2950",
   "metadata": {},
   "source": [
    "built-in functions for lists in Python:\n",
    "\n",
    "len(list): Returns the number of elements in the list.\n",
    "\n",
    "list.append(item): Adds an element to the end of the list.\n",
    "\n",
    "list.extend(iterable): Appends elements from an iterable to the end of the list.\n",
    "\n",
    "list.insert(index, item): Inserts an element at a specified index in the list.\n",
    "\n",
    "list.remove(item): Removes the first occurrence of a specific item from the list.\n",
    "\n",
    "list.pop(index): Removes and returns the element at a specified index in the list.\n",
    "\n",
    "list.clear(): Removes all elements from the list.\n",
    "\n",
    "list.index(item): Returns the lowest index of the first occurrence of an item in the list.\n",
    "\n",
    "list.count(item): Returns the number of occurrences of an item in the list.\n",
    "\n",
    "list.sort(key=None, reverse=False): Sorts the elements of the list in ascending order.\n",
    "\n",
    "list.reverse(): Reverses the order of elements in the list.\n",
    "\n",
    "list.copy(): Creates a shallow copy of the list.\n",
    "\n",
    "min(list): Returns the minimum value in a numeric list.\n",
    "\n",
    "max(list): Returns the maximum value in a numeric list.\n",
    "\n",
    "sum(list): Returns the sum of all elements in a numeric list.\n",
    "\n",
    "list.index(item, start, end): Returns the lowest index of the first occurrence of an item in the list within a specified range.\n",
    "\n",
    "list.count(item): Returns the number of occurrences of an item in the list.\n",
    "\n",
    "list.sort(key=None, reverse=False): Sorts the elements of the list in ascending order.\n",
    "\n",
    "list.reverse(): Reverses the order of elements in the list.\n",
    "\n",
    "list.copy(): Creates a shallow copy of the list.\n",
    "\n",
    "list.clear(): Removes all elements from the list.\n",
    "\n",
    "list.pop(index=-1): Removes and returns the element at a specified index in the list.\n",
    "\n",
    "list.extend(iterable): Appends elements from an iterable to the end of the list.\n",
    "\n",
    "list.insert(index, item): Inserts an element at a specified index in the list.\n",
    "\n",
    "list.remove(item): Removes the first occurrence of a specific item from the list.\n",
    "\n",
    "list.count(item): Returns the number of occurrences of an item in the list.\n",
    "\n",
    "list.copy(): Creates a shallow copy of the list.\n",
    "\n",
    "list.clear(): Removes all elements from the list."
   ]
  },
  {
   "cell_type": "markdown",
   "id": "59c981b7",
   "metadata": {},
   "source": [
    "Write a program that prompts the user to enter a list of numbers and prints its length."
   ]
  },
  {
   "cell_type": "code",
   "execution_count": 55,
   "id": "554e331d",
   "metadata": {},
   "outputs": [
    {
     "name": "stdout",
     "output_type": "stream",
     "text": [
      "Length of the list: 5\n"
     ]
    }
   ],
   "source": [
    "my_list = [1, 2, 3, 4, 5]\n",
    "length = len(my_list)\n",
    "print(\"Length of the list:\", length)"
   ]
  },
  {
   "cell_type": "markdown",
   "id": "b78f6e49",
   "metadata": {},
   "source": [
    "Write a program that appends a user-provided number to a list."
   ]
  },
  {
   "cell_type": "code",
   "execution_count": 54,
   "id": "6547976c",
   "metadata": {},
   "outputs": [
    {
     "name": "stdout",
     "output_type": "stream",
     "text": [
      "Enter a number: 4\n",
      "[1, 2, 3, 4]\n"
     ]
    }
   ],
   "source": [
    "my_list = [1, 2, 3]\n",
    "number = int(input(\"Enter a number: \"))\n",
    "my_list.append(number)\n",
    "print(my_list)"
   ]
  },
  {
   "cell_type": "markdown",
   "id": "c19a58d6",
   "metadata": {},
   "source": [
    "Write a program that extends a list by adding elements from another list."
   ]
  },
  {
   "cell_type": "code",
   "execution_count": 53,
   "id": "ace617a7",
   "metadata": {},
   "outputs": [
    {
     "name": "stdout",
     "output_type": "stream",
     "text": [
      "[1, 2, 3, 4, 5, 6]\n"
     ]
    }
   ],
   "source": [
    "list1 = [1, 2, 3]\n",
    "list2 = [4, 5, 6]\n",
    "list1.extend(list2)\n",
    "print(list1)"
   ]
  },
  {
   "cell_type": "markdown",
   "id": "25c9e3c0",
   "metadata": {},
   "source": [
    "Write a program that inserts a user-provided item at a specific index in a list."
   ]
  },
  {
   "cell_type": "code",
   "execution_count": 52,
   "id": "0728a0fe",
   "metadata": {},
   "outputs": [
    {
     "name": "stdout",
     "output_type": "stream",
     "text": [
      "Enter an item: 8\n",
      "Enter an index: 3\n",
      "[1, 2, 3, 8, 4, 5]\n"
     ]
    }
   ],
   "source": [
    "my_list = [1, 2, 3, 4, 5]\n",
    "item = int(input(\"Enter an item: \"))\n",
    "index = int(input(\"Enter an index: \"))\n",
    "my_list.insert(index, item)\n",
    "print(my_list)"
   ]
  },
  {
   "cell_type": "markdown",
   "id": "22b3b9ad",
   "metadata": {},
   "source": [
    "Write a program that removes a user-provided item from a list."
   ]
  },
  {
   "cell_type": "code",
   "execution_count": 51,
   "id": "60a20e9d",
   "metadata": {},
   "outputs": [
    {
     "name": "stdout",
     "output_type": "stream",
     "text": [
      "Enter an item to remove: 4\n",
      "[1, 2, 3, 5]\n"
     ]
    }
   ],
   "source": [
    "my_list = [1, 2, 3, 4, 5]\n",
    "item = int(input(\"Enter an item to remove: \"))\n",
    "my_list.remove(item)\n",
    "print(my_list)"
   ]
  },
  {
   "cell_type": "markdown",
   "id": "56cf02d6",
   "metadata": {},
   "source": [
    "Write a program that pops and prints the last element of a list."
   ]
  },
  {
   "cell_type": "code",
   "execution_count": 50,
   "id": "5856e947",
   "metadata": {},
   "outputs": [
    {
     "name": "stdout",
     "output_type": "stream",
     "text": [
      "5\n"
     ]
    }
   ],
   "source": [
    "my_list = [1, 2, 3, 4, 5]\n",
    "popped_item = my_list.pop()\n",
    "print(popped_item)"
   ]
  },
  {
   "cell_type": "markdown",
   "id": "4a1caa78",
   "metadata": {},
   "source": [
    "Write a program that clears all elements from a list."
   ]
  },
  {
   "cell_type": "code",
   "execution_count": 49,
   "id": "56c39fdb",
   "metadata": {},
   "outputs": [
    {
     "name": "stdout",
     "output_type": "stream",
     "text": [
      "[]\n"
     ]
    }
   ],
   "source": [
    "my_list = [1, 2, 3, 4, 5]\n",
    "my_list.clear()\n",
    "print(my_list)"
   ]
  },
  {
   "cell_type": "markdown",
   "id": "88f87209",
   "metadata": {},
   "source": [
    "Write a program that finds the index of a user-provided item in a list."
   ]
  },
  {
   "cell_type": "code",
   "execution_count": 48,
   "id": "d77b6000",
   "metadata": {},
   "outputs": [
    {
     "name": "stdout",
     "output_type": "stream",
     "text": [
      "Enter an item: 5\n",
      "Index of 5 is 4\n"
     ]
    }
   ],
   "source": [
    "my_list = [1, 2, 3, 4, 5]\n",
    "item = int(input(\"Enter an item: \"))\n",
    "index = my_list.index(item)\n",
    "print(\"Index of\", item, \"is\", index)"
   ]
  },
  {
   "cell_type": "markdown",
   "id": "bded6a6b",
   "metadata": {},
   "source": [
    "Write a program that counts the number of occurrences of a user-provided item in a list."
   ]
  },
  {
   "cell_type": "code",
   "execution_count": 45,
   "id": "6ec14b22",
   "metadata": {},
   "outputs": [
    {
     "name": "stdout",
     "output_type": "stream",
     "text": [
      "Enter an item: 2\n",
      "Count of 2 is 3\n"
     ]
    }
   ],
   "source": [
    "my_list = [1, 2, 3, 2, 4, 2, 5]\n",
    "item = int(input(\"Enter an item: \"))\n",
    "count = my_list.count(item)\n",
    "print(\"Count of\", item, \"is\", count)"
   ]
  },
  {
   "cell_type": "markdown",
   "id": "9357e2f0",
   "metadata": {},
   "source": [
    "###### Write a program that sorts a list of numbers in ascending order."
   ]
  },
  {
   "cell_type": "code",
   "execution_count": 43,
   "id": "652921ac",
   "metadata": {},
   "outputs": [
    {
     "name": "stdout",
     "output_type": "stream",
     "text": [
      "[1, 2, 3, 4, 5]\n"
     ]
    }
   ],
   "source": [
    "my_list = [5, 3, 1, 4, 2]\n",
    "my_list.sort()\n",
    "print(my_list)"
   ]
  },
  {
   "cell_type": "markdown",
   "id": "367271f7",
   "metadata": {},
   "source": [
    "Question: Write a program that reverses a list."
   ]
  },
  {
   "cell_type": "code",
   "execution_count": 42,
   "id": "331d9a58",
   "metadata": {},
   "outputs": [
    {
     "name": "stdout",
     "output_type": "stream",
     "text": [
      "[5, 4, 3, 2, 1]\n"
     ]
    }
   ],
   "source": [
    "my_list = [1, 2, 3, 4, 5]\n",
    "my_list.reverse()\n",
    "print(my_list)"
   ]
  },
  {
   "cell_type": "markdown",
   "id": "4099efed",
   "metadata": {},
   "source": [
    "Write a program that creates a copy of a list and modifies the copy."
   ]
  },
  {
   "cell_type": "code",
   "execution_count": 41,
   "id": "ca247a53",
   "metadata": {},
   "outputs": [
    {
     "name": "stdout",
     "output_type": "stream",
     "text": [
      "[1, 2, 3, 4, 5]\n",
      "[1, 2, 3, 4, 5, 6]\n"
     ]
    }
   ],
   "source": [
    "my_list = [1, 2, 3, 4, 5]\n",
    "copied_list = my_list.copy()\n",
    "copied_list.append(6)\n",
    "print(my_list)\n",
    "print(copied_list)"
   ]
  },
  {
   "cell_type": "markdown",
   "id": "0d6a4dd6",
   "metadata": {},
   "source": [
    "Write a program that finds the minimum value in a list."
   ]
  },
  {
   "cell_type": "code",
   "execution_count": 40,
   "id": "bb31bcfa",
   "metadata": {},
   "outputs": [
    {
     "name": "stdout",
     "output_type": "stream",
     "text": [
      "Minimum value: 1\n"
     ]
    }
   ],
   "source": [
    "my_list = [5, 3, 1, 4, 2]\n",
    "minimum = min(my_list)\n",
    "print(\"Minimum value:\", minimum)"
   ]
  },
  {
   "cell_type": "markdown",
   "id": "95c5cc07",
   "metadata": {},
   "source": [
    "Write a program that finds the maximum value in a list."
   ]
  },
  {
   "cell_type": "code",
   "execution_count": 39,
   "id": "3013c9fd",
   "metadata": {},
   "outputs": [
    {
     "name": "stdout",
     "output_type": "stream",
     "text": [
      "Maximum value: 5\n"
     ]
    }
   ],
   "source": [
    "my_list = [5, 3, 1, 4, 2]\n",
    "maximum = max(my_list)\n",
    "print(\"Maximum value:\", maximum)"
   ]
  },
  {
   "cell_type": "markdown",
   "id": "e50dd8f0",
   "metadata": {},
   "source": [
    "Write a program that calculates the sum of all numbers in a list."
   ]
  },
  {
   "cell_type": "code",
   "execution_count": 38,
   "id": "0f9d9c5a",
   "metadata": {},
   "outputs": [
    {
     "name": "stdout",
     "output_type": "stream",
     "text": [
      "Sum: 15\n"
     ]
    }
   ],
   "source": [
    "my_list = [1, 2, 3, 4, 5]\n",
    "total = sum(my_list)\n",
    "print(\"Sum:\", total)"
   ]
  },
  {
   "cell_type": "markdown",
   "id": "c3722022",
   "metadata": {},
   "source": [
    "<h2><center>List Operation</center></h2>"
   ]
  },
  {
   "cell_type": "markdown",
   "id": "d2d5264c",
   "metadata": {},
   "source": [
    "Accesses an element at a specific index in the list."
   ]
  },
  {
   "cell_type": "code",
   "execution_count": 61,
   "id": "59b0b0c3",
   "metadata": {},
   "outputs": [
    {
     "name": "stdout",
     "output_type": "stream",
     "text": [
      "1\n"
     ]
    }
   ],
   "source": [
    "my_list = [1, 2, 3, 4, 5]\n",
    "print(my_list[0])  # Output: 1"
   ]
  },
  {
   "cell_type": "markdown",
   "id": "4e62d5e0",
   "metadata": {},
   "source": [
    "Accesses an element at a specific index from the end of the list."
   ]
  },
  {
   "cell_type": "code",
   "execution_count": 62,
   "id": "8855ca55",
   "metadata": {},
   "outputs": [
    {
     "name": "stdout",
     "output_type": "stream",
     "text": [
      "5\n"
     ]
    }
   ],
   "source": [
    "my_list = [1, 2, 3, 4, 5]\n",
    "print(my_list[-1])  # Output: 5"
   ]
  },
  {
   "cell_type": "markdown",
   "id": "e65c43e7",
   "metadata": {},
   "source": [
    "Extracts a sublist from the list based on a specified range of indices."
   ]
  },
  {
   "cell_type": "code",
   "execution_count": 63,
   "id": "9ceee466",
   "metadata": {},
   "outputs": [
    {
     "name": "stdout",
     "output_type": "stream",
     "text": [
      "[2, 3, 4]\n"
     ]
    }
   ],
   "source": [
    "my_list = [1, 2, 3, 4, 5]\n",
    "print(my_list[1:4])  # Output: [2, 3, 4]"
   ]
  },
  {
   "cell_type": "markdown",
   "id": "064d41ee",
   "metadata": {},
   "source": [
    "Modifies an element at a specific index in the list."
   ]
  },
  {
   "cell_type": "code",
   "execution_count": 64,
   "id": "b28b9e42",
   "metadata": {},
   "outputs": [
    {
     "name": "stdout",
     "output_type": "stream",
     "text": [
      "[1, 2, 10, 4, 5]\n"
     ]
    }
   ],
   "source": [
    "my_list = [1, 2, 3, 4, 5]\n",
    "my_list[2] = 10\n",
    "print(my_list)  # Output: [1, 2, 10, 4, 5]"
   ]
  },
  {
   "cell_type": "markdown",
   "id": "d2d1f32e",
   "metadata": {},
   "source": [
    "Adds an element to the end of the list."
   ]
  },
  {
   "cell_type": "code",
   "execution_count": 65,
   "id": "87555b00",
   "metadata": {},
   "outputs": [
    {
     "name": "stdout",
     "output_type": "stream",
     "text": [
      "[1, 2, 3, 4]\n"
     ]
    }
   ],
   "source": [
    "my_list = [1, 2, 3]\n",
    "my_list.append(4)\n",
    "print(my_list)  # Output: [1, 2, 3, 4]"
   ]
  },
  {
   "cell_type": "markdown",
   "id": "8c11ed44",
   "metadata": {},
   "source": [
    "Appends elements from an iterable to the end of the list."
   ]
  },
  {
   "cell_type": "code",
   "execution_count": 66,
   "id": "2e4ca311",
   "metadata": {},
   "outputs": [
    {
     "name": "stdout",
     "output_type": "stream",
     "text": [
      "[1, 2, 3, 4, 5, 6]\n"
     ]
    }
   ],
   "source": [
    "my_list = [1, 2, 3]\n",
    "my_list.extend([4, 5, 6])\n",
    "print(my_list)  # Output: [1, 2, 3, 4, 5, 6]"
   ]
  },
  {
   "cell_type": "markdown",
   "id": "1a981003",
   "metadata": {},
   "source": [
    "Inserts an element at a specific index in the list."
   ]
  },
  {
   "cell_type": "code",
   "execution_count": 67,
   "id": "181942dd",
   "metadata": {},
   "outputs": [
    {
     "name": "stdout",
     "output_type": "stream",
     "text": [
      "[1, 2, 3, 4, 5]\n"
     ]
    }
   ],
   "source": [
    "my_list = [1, 2, 3, 5]\n",
    "my_list.insert(3, 4)\n",
    "print(my_list)  # Output: [1, 2, 3, 4, 5]"
   ]
  },
  {
   "cell_type": "markdown",
   "id": "5bbd1478",
   "metadata": {},
   "source": [
    "Removes the first occurrence of a specific value from the list."
   ]
  },
  {
   "cell_type": "code",
   "execution_count": 68,
   "id": "11bfaedd",
   "metadata": {},
   "outputs": [
    {
     "name": "stdout",
     "output_type": "stream",
     "text": [
      "[1, 2, 4, 5]\n"
     ]
    }
   ],
   "source": [
    "my_list = [1, 2, 3, 4, 5]\n",
    "my_list.remove(3)\n",
    "print(my_list)  # Output: [1, 2, 4, 5]"
   ]
  },
  {
   "cell_type": "markdown",
   "id": "9d11d337",
   "metadata": {},
   "source": [
    "Removes and returns the element at a specific index in the list."
   ]
  },
  {
   "cell_type": "code",
   "execution_count": 69,
   "id": "c24bf516",
   "metadata": {},
   "outputs": [
    {
     "name": "stdout",
     "output_type": "stream",
     "text": [
      "3\n",
      "[1, 2, 4, 5]\n"
     ]
    }
   ],
   "source": [
    "my_list = [1, 2, 3, 4, 5]\n",
    "popped_item = my_list.pop(2)\n",
    "print(popped_item)  # Output: 3\n",
    "print(my_list)     # Output: [1, 2, 4, 5]"
   ]
  },
  {
   "cell_type": "markdown",
   "id": "1f5c5a32",
   "metadata": {},
   "source": [
    "Removes all elements from the list."
   ]
  },
  {
   "cell_type": "code",
   "execution_count": 70,
   "id": "7898c7ec",
   "metadata": {},
   "outputs": [
    {
     "name": "stdout",
     "output_type": "stream",
     "text": [
      "[]\n"
     ]
    }
   ],
   "source": [
    "my_list = [1, 2, 3, 4, 5]\n",
    "my_list.clear()\n",
    "print(my_list)  # Output: []"
   ]
  },
  {
   "cell_type": "markdown",
   "id": "3b7ede31",
   "metadata": {},
   "source": [
    "Concatenates two lists together, creating a new list.\n"
   ]
  },
  {
   "cell_type": "code",
   "execution_count": 71,
   "id": "3161b884",
   "metadata": {},
   "outputs": [
    {
     "name": "stdout",
     "output_type": "stream",
     "text": [
      "[1, 2, 3, 4, 5, 6]\n"
     ]
    }
   ],
   "source": [
    "list1 = [1, 2, 3]\n",
    "list2 = [4, 5, 6]\n",
    "concatenated = list1 + list2\n",
    "print(concatenated)  # Output: [1, 2, 3, 4, 5, 6]"
   ]
  },
  {
   "cell_type": "markdown",
   "id": "16f12112",
   "metadata": {},
   "source": [
    "Repeats a list a specified number of times, creating a new list."
   ]
  },
  {
   "cell_type": "code",
   "execution_count": 72,
   "id": "6b0a06b6",
   "metadata": {},
   "outputs": [
    {
     "name": "stdout",
     "output_type": "stream",
     "text": [
      "[1, 2, 3, 1, 2, 3, 1, 2, 3]\n"
     ]
    }
   ],
   "source": [
    "my_list = [1, 2, 3]\n",
    "repeated = my_list * 3\n",
    "print(repeated)  # Output: [1, 2, 3, 1, 2, 3, 1, 2, 3]"
   ]
  },
  {
   "cell_type": "markdown",
   "id": "c1847612",
   "metadata": {},
   "source": [
    "Returns the number of elements in the list."
   ]
  },
  {
   "cell_type": "code",
   "execution_count": 73,
   "id": "51e12224",
   "metadata": {},
   "outputs": [
    {
     "name": "stdout",
     "output_type": "stream",
     "text": [
      "5\n"
     ]
    }
   ],
   "source": [
    "my_list = [1, 2, 3, 4, 5]\n",
    "length = len(my_list)\n",
    "print(length)  # Output: 5"
   ]
  },
  {
   "cell_type": "markdown",
   "id": "bf72adc6",
   "metadata": {},
   "source": [
    "Returns the lowest index of the first occurrence of a value in the list."
   ]
  },
  {
   "cell_type": "code",
   "execution_count": 74,
   "id": "8677551c",
   "metadata": {},
   "outputs": [
    {
     "name": "stdout",
     "output_type": "stream",
     "text": [
      "2\n"
     ]
    }
   ],
   "source": [
    "my_list = [1, 2, 3, 4, 5]\n",
    "index = my_list.index(3)\n",
    "print(index)  # Output: 2"
   ]
  },
  {
   "cell_type": "markdown",
   "id": "a63a9313",
   "metadata": {},
   "source": [
    "Returns the number of occurrences of a value in the list."
   ]
  },
  {
   "cell_type": "code",
   "execution_count": 75,
   "id": "0d00a298",
   "metadata": {},
   "outputs": [
    {
     "name": "stdout",
     "output_type": "stream",
     "text": [
      "3\n"
     ]
    }
   ],
   "source": [
    "my_list = [1, 2, 2, 3, 4, 4, 4, 5]\n",
    "count = my_list.count(4)\n",
    "print(count)  # Output: 3"
   ]
  },
  {
   "cell_type": "markdown",
   "id": "677d6ff6",
   "metadata": {},
   "source": [
    "Sorts the elements of the list in ascending order."
   ]
  },
  {
   "cell_type": "code",
   "execution_count": 76,
   "id": "5a3a17d4",
   "metadata": {},
   "outputs": [
    {
     "name": "stdout",
     "output_type": "stream",
     "text": [
      "[1, 2, 3, 4, 5]\n"
     ]
    }
   ],
   "source": [
    "my_list = [3, 1, 4, 2, 5]\n",
    "my_list.sort()\n",
    "print(my_list)  # Output: [1, 2, 3, 4, 5]"
   ]
  },
  {
   "cell_type": "markdown",
   "id": "286859d9",
   "metadata": {},
   "source": [
    "to return a new sorted list"
   ]
  },
  {
   "cell_type": "code",
   "execution_count": 77,
   "id": "7c5f9a62",
   "metadata": {},
   "outputs": [
    {
     "name": "stdout",
     "output_type": "stream",
     "text": [
      "[1, 2, 3, 4, 5]\n"
     ]
    }
   ],
   "source": [
    "sorted_list = sorted(my_list)\n",
    "print(sorted_list)  # Output: [1, 2, 3, 4, 5]"
   ]
  },
  {
   "cell_type": "markdown",
   "id": "2ea300cb",
   "metadata": {},
   "source": [
    "Reverses the order of elements in the list."
   ]
  },
  {
   "cell_type": "code",
   "execution_count": 78,
   "id": "f5edd49d",
   "metadata": {},
   "outputs": [
    {
     "name": "stdout",
     "output_type": "stream",
     "text": [
      "[5, 4, 3, 2, 1]\n"
     ]
    }
   ],
   "source": [
    "my_list = [1, 2, 3, 4, 5]\n",
    "my_list.reverse()\n",
    "print(my_list)  # Output: [5, 4, 3, 2, 1]"
   ]
  },
  {
   "cell_type": "markdown",
   "id": "0ddf3cf4",
   "metadata": {},
   "source": [
    "Creates a shallow copy of the list."
   ]
  },
  {
   "cell_type": "code",
   "execution_count": 79,
   "id": "3dbc554b",
   "metadata": {},
   "outputs": [
    {
     "name": "stdout",
     "output_type": "stream",
     "text": [
      "[1, 2, 3]\n"
     ]
    }
   ],
   "source": [
    "my_list = [1, 2, 3]\n",
    "new_list = my_list.copy()\n",
    "print(new_list)  # Output: [1, 2, 3]"
   ]
  },
  {
   "cell_type": "markdown",
   "id": "2f65fbb9",
   "metadata": {},
   "source": [
    "Concatenates the elements of the list into a single string using a separator."
   ]
  },
  {
   "cell_type": "code",
   "execution_count": 80,
   "id": "3796691f",
   "metadata": {},
   "outputs": [
    {
     "name": "stdout",
     "output_type": "stream",
     "text": [
      "Hello World\n"
     ]
    }
   ],
   "source": [
    "my_list = [\"Hello\", \"World\"]\n",
    "joined_string = \" \".join(my_list)\n",
    "print(joined_string)  # Output: \"Hello World\""
   ]
  },
  {
   "cell_type": "markdown",
   "id": "134703df",
   "metadata": {},
   "source": [
    "<h2><center>List slicing</center></h2>"
   ]
  },
  {
   "cell_type": "markdown",
   "id": "cd3e6b05",
   "metadata": {},
   "source": [
    "Basic Slicing: Extracting a sublist from a list based on a specified range of indices."
   ]
  },
  {
   "cell_type": "code",
   "execution_count": 81,
   "id": "bbf884bd",
   "metadata": {},
   "outputs": [
    {
     "name": "stdout",
     "output_type": "stream",
     "text": [
      "[3, 4, 5, 6, 7]\n"
     ]
    }
   ],
   "source": [
    "my_list = [1, 2, 3, 4, 5, 6, 7, 8, 9, 10]\n",
    "sliced_list = my_list[2:7]\n",
    "print(sliced_list)  # Output: [3, 4, 5, 6, 7]"
   ]
  },
  {
   "cell_type": "markdown",
   "id": "74fae5c0",
   "metadata": {},
   "source": [
    "Slicing with a Step Value: Extracting a sublist with a specified step value, allowing you to skip elements."
   ]
  },
  {
   "cell_type": "code",
   "execution_count": 82,
   "id": "797b55ea",
   "metadata": {},
   "outputs": [
    {
     "name": "stdout",
     "output_type": "stream",
     "text": [
      "[2, 4, 6, 8]\n"
     ]
    }
   ],
   "source": [
    "my_list = [1, 2, 3, 4, 5, 6, 7, 8, 9, 10]\n",
    "sliced_list = my_list[1:9:2]\n",
    "print(sliced_list)  # Output: [2, 4, 6, 8]"
   ]
  },
  {
   "cell_type": "markdown",
   "id": "7ccf36b7",
   "metadata": {},
   "source": [
    "Reverse Slicing: Reversing the order of elements in a list using slicing."
   ]
  },
  {
   "cell_type": "code",
   "execution_count": 83,
   "id": "90846967",
   "metadata": {},
   "outputs": [
    {
     "name": "stdout",
     "output_type": "stream",
     "text": [
      "[10, 9, 8, 7, 6, 5, 4, 3, 2, 1]\n"
     ]
    }
   ],
   "source": [
    "my_list = [1, 2, 3, 4, 5, 6, 7, 8, 9, 10]\n",
    "reversed_list = my_list[::-1]\n",
    "print(reversed_list)  # Output: [10, 9, 8, 7, 6, 5, 4, 3, 2, 1]"
   ]
  },
  {
   "cell_type": "markdown",
   "id": "2a44b596",
   "metadata": {},
   "source": [
    "Skipping Last N Elements: Skipping the last N elements of a list using negative indices."
   ]
  },
  {
   "cell_type": "code",
   "execution_count": 84,
   "id": "e10cfe0f",
   "metadata": {},
   "outputs": [
    {
     "name": "stdout",
     "output_type": "stream",
     "text": [
      "[1, 2, 3, 4, 5, 6, 7]\n"
     ]
    }
   ],
   "source": [
    "my_list = [1, 2, 3, 4, 5, 6, 7, 8, 9, 10]\n",
    "sliced_list = my_list[:-3]\n",
    "print(sliced_list)  # Output: [1, 2, 3, 4, 5, 6, 7]"
   ]
  },
  {
   "cell_type": "markdown",
   "id": "3c88aef7",
   "metadata": {},
   "source": [
    "Skipping First N Elements: Skipping the first N elements of a list using positive indices."
   ]
  },
  {
   "cell_type": "code",
   "execution_count": 85,
   "id": "17e6e48a",
   "metadata": {},
   "outputs": [
    {
     "name": "stdout",
     "output_type": "stream",
     "text": [
      "[4, 5, 6, 7, 8, 9, 10]\n"
     ]
    }
   ],
   "source": [
    "my_list = [1, 2, 3, 4, 5, 6, 7, 8, 9, 10]\n",
    "sliced_list = my_list[3:]\n",
    "print(sliced_list)  # Output: [4, 5, 6, 7, 8, 9, 10]"
   ]
  },
  {
   "cell_type": "markdown",
   "id": "a2e2e70f",
   "metadata": {},
   "source": [
    "Slicing with a Step Value Greater than 1: Extracting a sublist by skipping elements using a step value greater than 1."
   ]
  },
  {
   "cell_type": "code",
   "execution_count": 86,
   "id": "1ab75683",
   "metadata": {},
   "outputs": [
    {
     "name": "stdout",
     "output_type": "stream",
     "text": [
      "[2, 5, 8]\n"
     ]
    }
   ],
   "source": [
    "my_list = [1, 2, 3, 4, 5, 6, 7, 8, 9, 10]\n",
    "sliced_list = my_list[1:9:3]\n",
    "print(sliced_list)  # Output: [2, 5, 8]"
   ]
  },
  {
   "cell_type": "markdown",
   "id": "1ac3f3cd",
   "metadata": {},
   "source": [
    "Multi-dimensional List Slicing: Slicing multi-dimensional lists."
   ]
  },
  {
   "cell_type": "code",
   "execution_count": 87,
   "id": "755bed9f",
   "metadata": {},
   "outputs": [
    {
     "name": "stdout",
     "output_type": "stream",
     "text": [
      "[5, 6]\n"
     ]
    }
   ],
   "source": [
    "my_list = [[1, 2, 3], [4, 5, 6], [7, 8, 9]]\n",
    "sliced_list = my_list[1][1:3]\n",
    "print(sliced_list)  # Output: [5, 6]"
   ]
  },
  {
   "cell_type": "markdown",
   "id": "ca753388",
   "metadata": {},
   "source": [
    "<h2><center>END</center></h2>"
   ]
  }
 ],
 "metadata": {
  "kernelspec": {
   "display_name": "Python 3 (ipykernel)",
   "language": "python",
   "name": "python3"
  },
  "language_info": {
   "codemirror_mode": {
    "name": "ipython",
    "version": 3
   },
   "file_extension": ".py",
   "mimetype": "text/x-python",
   "name": "python",
   "nbconvert_exporter": "python",
   "pygments_lexer": "ipython3",
   "version": "3.9.12"
  }
 },
 "nbformat": 4,
 "nbformat_minor": 5
}
